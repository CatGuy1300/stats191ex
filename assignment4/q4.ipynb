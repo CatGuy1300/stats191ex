{
 "cells": [
  {
   "cell_type": "code",
   "execution_count": null,
   "metadata": {},
   "outputs": [],
   "source": [
    "import pandas as pd\n",
    "import matplotlib.pyplot as plt\n",
    "from scipy.stats import t, f, multivariate_normal, norm, uniform, expon\n",
    "import numpy as np\n",
    "import statsmodels.api as sm\n",
    "from Linear_Reg_Diagnostic import Linear_Reg_Diagnostic\n",
    "import statsmodels.stats.outliers_influence as smoi\n",
    "from statsmodels.graphics.api import interaction_plot, qqplot\n",
    "from statsmodels.stats.anova import anova_lm\n"
   ]
  },
  {
   "attachments": {},
   "cell_type": "markdown",
   "metadata": {},
   "source": [
    "sol1:"
   ]
  },
  {
   "cell_type": "code",
   "execution_count": null,
   "metadata": {},
   "outputs": [],
   "source": [
    "def generate(n, lam):\n",
    "    x = uniform.rvs(size = n)\n",
    "    f_x = 1 + 2 * x\n",
    "    eps = expon.rvs(scale = 1/lam, size = n)\n",
    "    y = f_x + eps\n",
    "    return x, y\n",
    "    # reg = linregress(x, y)\n",
    "    # y_pred = reg.intercept + reg.slope * x\n",
    "\n",
    "    # std_samp = np.sqrt(((y - y_pred) ** 2).sum() / (n-2))\n",
    "    # x_std = x.std(ddof=0) * np.sqrt(n)\n",
    "    # return (reg.slope - 2) * x_std / std_samp\n"
   ]
  },
  {
   "cell_type": "code",
   "execution_count": null,
   "metadata": {},
   "outputs": [
    {
     "name": "stdout",
     "output_type": "stream",
     "text": [
      "                            OLS Regression Results                            \n",
      "==============================================================================\n",
      "Dep. Variable:                      y   R-squared:                       0.282\n",
      "Model:                            OLS   Adj. R-squared:                  0.275\n",
      "Method:                 Least Squares   F-statistic:                     38.48\n",
      "Date:                Mon, 15 May 2023   Prob (F-statistic):           1.32e-08\n",
      "Time:                        10:20:31   Log-Likelihood:                -130.45\n",
      "No. Observations:                 100   AIC:                             264.9\n",
      "Df Residuals:                      98   BIC:                             270.1\n",
      "Df Model:                           1                                         \n",
      "Covariance Type:            nonrobust                                         \n",
      "==============================================================================\n",
      "                 coef    std err          t      P>|t|      [0.025      0.975]\n",
      "------------------------------------------------------------------------------\n",
      "Intercept      2.0252      0.179     11.317      0.000       1.670       2.380\n",
      "x              1.9996      0.322      6.204      0.000       1.360       2.639\n",
      "==============================================================================\n",
      "Omnibus:                       10.774   Durbin-Watson:                   2.089\n",
      "Prob(Omnibus):                  0.005   Jarque-Bera (JB):               10.444\n",
      "Skew:                           0.729   Prob(JB):                      0.00540\n",
      "Kurtosis:                       2.383   Cond. No.                         4.46\n",
      "==============================================================================\n",
      "\n",
      "Notes:\n",
      "[1] Standard Errors assume that the covariance matrix of the errors is correctly specified.\n"
     ]
    }
   ],
   "source": [
    "x, y = generate(100, 1)\n",
    "data = pd.DataFrame({'x': x, 'y': y})\n",
    "model1 = sm.OLS.from_formula('y ~ x', data).fit()\n",
    "print(model1.summary())"
   ]
  },
  {
   "cell_type": "code",
   "execution_count": null,
   "metadata": {},
   "outputs": [],
   "source": [
    "def boot_std(x, y):\n",
    "    betas = []\n",
    "    for i in range(1000):\n",
    "        beta_1 = sm.OLS(y, x).fit()"
   ]
  }
 ],
 "metadata": {
  "kernelspec": {
   "display_name": "venv",
   "language": "python",
   "name": "python3"
  },
  "language_info": {
   "name": "python",
   "version": "3.8.4"
  },
  "orig_nbformat": 4
 },
 "nbformat": 4,
 "nbformat_minor": 2
}
