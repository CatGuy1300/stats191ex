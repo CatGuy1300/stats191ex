{
 "cells": [
  {
   "cell_type": "code",
   "execution_count": 3,
   "metadata": {},
   "outputs": [],
   "source": [
    "import pandas as pd\n",
    "import matplotlib.pyplot as plt\n",
    "from scipy.stats import t, f, multivariate_normal, norm, uniform, expon\n",
    "import numpy as np\n",
    "import statsmodels.api as sm\n",
    "from Linear_Reg_Diagnostic import Linear_Reg_Diagnostic\n",
    "import statsmodels.stats.outliers_influence as smoi\n",
    "from statsmodels.graphics.api import interaction_plot, qqplot\n",
    "from statsmodels.stats.anova import anova_lm\n"
   ]
  },
  {
   "cell_type": "code",
   "execution_count": null,
   "metadata": {},
   "outputs": [],
   "source": [
    "def generate(n, lam):\n",
    "    x = uniform.rvs(size = n)\n",
    "    f_x = 1 + 2 * x\n",
    "    eps = expon.rvs(scale = 1/lam, size = n)\n",
    "    y = f_x + eps\n",
    "    return y\n",
    "    # reg = linregress(x, y)\n",
    "    # y_pred = reg.intercept + reg.slope * x\n",
    "\n",
    "    # std_samp = np.sqrt(((y - y_pred) ** 2).sum() / (n-2))\n",
    "    # x_std = x.std(ddof=0) * np.sqrt(n)\n",
    "    # return (reg.slope - 2) * x_std / std_samp\n"
   ]
  },
  {
   "cell_type": "code",
   "execution_count": 9,
   "metadata": {},
   "outputs": [
    {
     "data": {
      "text/plain": [
       "array([2.87372302, 1.27848074, 1.15853279, 2.33804351, 3.60441948,\n",
       "       3.39251873, 1.24512961, 1.09193744, 4.48719336, 1.56710639,\n",
       "       2.79988726, 3.57296817, 2.36349767, 2.48580577, 1.99521925,\n",
       "       0.67281215, 0.08312565, 0.80922704, 2.87010282, 1.96727415,\n",
       "       2.41446455, 4.20655764, 1.91980643, 6.51065751, 1.94708385,\n",
       "       2.35756941, 1.30483222, 0.41240126, 1.88981407, 2.39255566,\n",
       "       0.39771149, 2.04109638, 1.89229026, 0.91314059, 2.90931928,\n",
       "       2.07062272, 4.32123445, 2.77257542, 1.47685196, 1.76080847,\n",
       "       0.3827922 , 2.46766593, 2.29717364, 2.39996097, 1.6712288 ,\n",
       "       4.22953948, 2.22955186, 1.52755884, 0.40821232, 0.59690794,\n",
       "       4.62745121, 0.96828434, 4.06515414, 1.67764919, 1.03813866,\n",
       "       4.76665703, 0.26123862, 0.75037294, 0.31413451, 1.57325828,\n",
       "       4.59386136, 3.45260747, 1.10132296, 2.25867647, 3.54158929,\n",
       "       1.54143124, 0.73871685, 1.12378619, 0.93624609, 1.02068604,\n",
       "       1.40695349, 1.02424497, 3.51610298, 3.27893748, 4.59289398,\n",
       "       2.00429128, 4.65998683, 1.69594785, 2.29112521, 2.76198354,\n",
       "       3.15143284, 1.75955142, 2.31847499, 0.80317919, 3.22199337,\n",
       "       3.27046077, 3.42039978, 2.28100983, 0.42062718, 1.80497364,\n",
       "       2.94740864, 2.02765725, 1.41228048, 2.51032113, 0.89414805,\n",
       "       1.95695111, 2.32709804, 1.56593953, 1.2329552 , 1.78498457])"
      ]
     },
     "execution_count": 9,
     "metadata": {},
     "output_type": "execute_result"
    }
   ],
   "source": [
    "n = 100\n",
    "lam = 1\n",
    "x = uniform.rvs(size = n)\n",
    "f_x = 1 + 2 * x\n",
    "eps = expon.rvs(scale = 1/lam, size = n) - 1\n",
    "y = f_x + eps\n",
    "y"
   ]
  }
 ],
 "metadata": {
  "kernelspec": {
   "display_name": "venv",
   "language": "python",
   "name": "python3"
  },
  "language_info": {
   "codemirror_mode": {
    "name": "ipython",
    "version": 3
   },
   "file_extension": ".py",
   "mimetype": "text/x-python",
   "name": "python",
   "nbconvert_exporter": "python",
   "pygments_lexer": "ipython3",
   "version": "3.8.4"
  },
  "orig_nbformat": 4
 },
 "nbformat": 4,
 "nbformat_minor": 2
}
