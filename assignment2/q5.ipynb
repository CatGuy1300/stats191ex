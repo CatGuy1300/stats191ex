{
 "cells": [
  {
   "cell_type": "code",
   "execution_count": 2,
   "metadata": {},
   "outputs": [],
   "source": [
    "import pandas as pd\n",
    "import matplotlib.pyplot as plt\n",
    "from scipy.stats import linregress, t, f\n",
    "import numpy as np\n"
   ]
  },
  {
   "attachments": {},
   "cell_type": "markdown",
   "metadata": {},
   "source": [
    "1:"
   ]
  },
  {
   "cell_type": "code",
   "execution_count": 3,
   "metadata": {},
   "outputs": [
    {
     "data": {
      "text/plain": [
       "0.0030778764811709713"
      ]
     },
     "execution_count": 3,
     "metadata": {},
     "output_type": "execute_result"
    }
   ],
   "source": [
    "num_features = 3\n",
    "\n",
    "reg_df = num_features # number of features\n",
    "reg_sum_sq = 2216338\n",
    "reg_mean_sq = reg_sum_sq / reg_df\n",
    "\n",
    "res_df = 62\n",
    "res_sum_sq = 8913083\n",
    "res_mean_sq = res_sum_sq / res_df\n",
    "\n",
    "F_val = reg_mean_sq / res_mean_sq\n",
    "\n",
    "P_F = 1 - f.cdf(F_val, reg_df, res_df)\n",
    "P_F"
   ]
  },
  {
   "cell_type": "code",
   "execution_count": 14,
   "metadata": {},
   "outputs": [
    {
     "data": {
      "text/plain": [
       "143759.40322580645"
      ]
     },
     "execution_count": 14,
     "metadata": {},
     "output_type": "execute_result"
    }
   ],
   "source": [
    "res_mean_sq"
   ]
  },
  {
   "cell_type": "code",
   "execution_count": 12,
   "metadata": {},
   "outputs": [
    {
     "name": "stdout",
     "output_type": "stream",
     "text": [
      "n: 66\n",
      "\n",
      "intercept:\n",
      "t_value: 3.5367388290498027\n",
      "PR(>|t|): 0.0007733214228629048\n",
      "\n",
      "education:\n",
      "std_error: 233.13219967087218\n",
      "PR(>|t|): 0.0005468345553012455\n",
      "\n",
      "education:\n",
      "t_value: 3.5367388290498027\n",
      "PR(>|t|): 0.0007733214228629048\n",
      "\n",
      "STEM:\n",
      "est: 552.9175\n",
      "PR(>|t|): 0.09897146444217686\n"
     ]
    }
   ],
   "source": [
    "n = reg_df + res_df + 1\n",
    "print('n:', n)\n",
    "print()\n",
    "df = n - num_features - 1\n",
    "\n",
    "intercept_est = 3316.4\n",
    "intercept_std_error = 937.7\n",
    "intercept_t = intercept_est / intercept_std_error\n",
    "P_t_intercept = 2 - 2*t.cdf(intercept_t, df)\n",
    "print('intercept:')\n",
    "print('t_value:', intercept_t)\n",
    "print('PR(>|t|):', P_t_intercept)\n",
    "print()\n",
    "\n",
    "education_est = 850\n",
    "education_t_value = 3.646\n",
    "education_std_error = education_est / education_t_value\n",
    "P_t_education = 2 - 2*t.cdf(education_t_value, df)\n",
    "print('education:')\n",
    "print('std_error:', education_std_error)\n",
    "print('PR(>|t|):', P_t_education)\n",
    "print()\n",
    "\n",
    "experience_est = 932.4\n",
    "experience_std_error = 260.1\n",
    "experience_t_value = experience_est / experience_std_error\n",
    "P_t_education = 2 - 2*t.cdf(experience_t_value, df)\n",
    "print('education:')\n",
    "print('t_value:', intercept_t)\n",
    "print('PR(>|t|):', P_t_intercept)\n",
    "print()\n",
    "\n",
    "STEM_t_value = 1.675\n",
    "STEM_std_error = 330.1\n",
    "STEM_est = STEM_t_value * STEM_std_error\n",
    "P_t_STEM = 2 - 2*t.cdf(STEM_t_value, df)\n",
    "print('STEM:')\n",
    "print('est:', STEM_est)\n",
    "print('PR(>|t|):', P_t_STEM)\n"
   ]
  },
  {
   "attachments": {},
   "cell_type": "markdown",
   "metadata": {},
   "source": [
    "2:"
   ]
  },
  {
   "attachments": {},
   "cell_type": "markdown",
   "metadata": {},
   "source": [
    "$ P\\_val = 0.0030778764811709713 < 0.05 $ so we reject that there is no connection"
   ]
  },
  {
   "attachments": {},
   "cell_type": "markdown",
   "metadata": {},
   "source": [
    "3:"
   ]
  },
  {
   "cell_type": "code",
   "execution_count": 13,
   "metadata": {},
   "outputs": [
    {
     "data": {
      "text/plain": [
       "0.00033225192760155675"
      ]
     },
     "execution_count": 13,
     "metadata": {},
     "output_type": "execute_result"
    }
   ],
   "source": [
    "p_val = 1 - t.cdf(experience_t_value, df)\n",
    "p_val"
   ]
  },
  {
   "attachments": {},
   "cell_type": "markdown",
   "metadata": {},
   "source": [
    "so we reject that there is no positive relation"
   ]
  },
  {
   "attachments": {},
   "cell_type": "markdown",
   "metadata": {},
   "source": [
    "4 + 5:"
   ]
  },
  {
   "attachments": {},
   "cell_type": "markdown",
   "metadata": {},
   "source": [
    "we have:  \n",
    "$ {y - a^{T}\\hat{\\beta} \\over \\hat{\\sigma}\\sqrt{a^T(X^TX)^{-1}a+1}} \\sim t_{n-p}$\n",
    "\n",
    "so confidence inteval will be in the form:  \n",
    "\n",
    "$a^t\\hat{\\beta} \\pm t_{n-p, 1-{\\alpha \\over 2}}\\hat{\\sigma}\\sqrt{a^T(X^TX)^{-1}a+1}$  \n",
    "where:  \n",
    "$\\hat{\\sigma} = {MSE} = 143759.40$  \n",
    "$ p = \\#features + 1 = 4 $  \n",
    "$n = 66$  \n",
    "$\\hat{\\beta} = (3316.4, 850, 932.4, 552.9)^T $\n",
    "\n",
    "4: $ a^T = (1, 10, 5, 1)$  \n",
    "5: $ a^T = (1, 10, 6, 0)$"
   ]
  }
 ],
 "metadata": {
  "kernelspec": {
   "display_name": "venv",
   "language": "python",
   "name": "python3"
  },
  "language_info": {
   "codemirror_mode": {
    "name": "ipython",
    "version": 3
   },
   "file_extension": ".py",
   "mimetype": "text/x-python",
   "name": "python",
   "nbconvert_exporter": "python",
   "pygments_lexer": "ipython3",
   "version": "3.8.4"
  },
  "orig_nbformat": 4
 },
 "nbformat": 4,
 "nbformat_minor": 2
}
