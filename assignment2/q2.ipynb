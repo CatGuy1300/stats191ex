{
 "cells": [
  {
   "cell_type": "code",
   "execution_count": 2,
   "metadata": {},
   "outputs": [],
   "source": [
    "import pandas as pd\n",
    "import matplotlib.pyplot as plt\n",
    "from scipy.stats import linregress, t, f\n",
    "import numpy as np\n"
   ]
  },
  {
   "attachments": {},
   "cell_type": "markdown",
   "metadata": {},
   "source": [
    "$ mean\\_sq = {sum\\_sq \\over Df} $"
   ]
  },
  {
   "cell_type": "code",
   "execution_count": 3,
   "metadata": {},
   "outputs": [
    {
     "name": "stdout",
     "output_type": "stream",
     "text": [
      "X sum sq: 5291\n",
      "Res Mean sq: 3776.8541666666665\n"
     ]
    }
   ],
   "source": [
    "X_df = 1\n",
    "X_mean_sq = 5291\n",
    "res_df = 48\n",
    "res_sum_sq = 181289\n",
    "\n",
    "X_sum_sq = X_mean_sq * X_df\n",
    "res_mean_sq = res_sum_sq / res_df\n",
    "\n",
    "print('X sum sq:', X_sum_sq)\n",
    "print('Res Mean sq:', res_mean_sq)"
   ]
  },
  {
   "cell_type": "code",
   "execution_count": 4,
   "metadata": {},
   "outputs": [
    {
     "name": "stdout",
     "output_type": "stream",
     "text": [
      "F_val: 1.4009013233014689\n"
     ]
    }
   ],
   "source": [
    "F_val = X_mean_sq / res_mean_sq\n",
    "print('F_val:', F_val)"
   ]
  },
  {
   "cell_type": "code",
   "execution_count": 5,
   "metadata": {},
   "outputs": [
    {
     "name": "stdout",
     "output_type": "stream",
     "text": [
      "Pr(>F) =  0.24240140148748734\n"
     ]
    }
   ],
   "source": [
    "pr_f = 1 - f.cdf(F_val, X_df, res_df)\n",
    "print('Pr(>F) = ', pr_f)"
   ]
  },
  {
   "attachments": {},
   "cell_type": "markdown",
   "metadata": {},
   "source": [
    "We can't reject $ \\beta_{1} = 0 $ at level $\\alpha=0.05$  \n",
    "We can't test for $ \\beta_{1} < 0 $ because F_val isn't distirbuted F under that assumption.  \n",
    "(We also can't derive bounds because the F statistic uses squred terms, so we dont know the original sign)"
   ]
  },
  {
   "cell_type": "code",
   "execution_count": 6,
   "metadata": {},
   "outputs": [
    {
     "name": "stdout",
     "output_type": "stream",
     "text": [
      "R^2: 0.028357808982741987\n"
     ]
    }
   ],
   "source": [
    "total_sum_sq = X_sum_sq + res_sum_sq\n",
    "R_sq = X_sum_sq / total_sum_sq\n",
    "print(\"R^2:\", R_sq)"
   ]
  },
  {
   "attachments": {},
   "cell_type": "markdown",
   "metadata": {},
   "source": [
    "same, R^2 is symmeytic in x, y"
   ]
  },
  {
   "cell_type": "code",
   "execution_count": null,
   "metadata": {},
   "outputs": [],
   "source": []
  }
 ],
 "metadata": {
  "kernelspec": {
   "display_name": "venv",
   "language": "python",
   "name": "python3"
  },
  "language_info": {
   "codemirror_mode": {
    "name": "ipython",
    "version": 3
   },
   "file_extension": ".py",
   "mimetype": "text/x-python",
   "name": "python",
   "nbconvert_exporter": "python",
   "pygments_lexer": "ipython3",
   "version": "3.8.4"
  },
  "orig_nbformat": 4
 },
 "nbformat": 4,
 "nbformat_minor": 2
}
