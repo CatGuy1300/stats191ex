{
 "cells": [
  {
   "cell_type": "code",
   "execution_count": 17,
   "metadata": {},
   "outputs": [],
   "source": [
    "import pandas as pd\n",
    "import matplotlib.pyplot as plt\n",
    "from scipy.stats import norm\n",
    "import numpy as np\n"
   ]
  },
  {
   "cell_type": "code",
   "execution_count": 2,
   "metadata": {},
   "outputs": [
    {
     "data": {
      "text/html": [
       "<div>\n",
       "<style scoped>\n",
       "    .dataframe tbody tr th:only-of-type {\n",
       "        vertical-align: middle;\n",
       "    }\n",
       "\n",
       "    .dataframe tbody tr th {\n",
       "        vertical-align: top;\n",
       "    }\n",
       "\n",
       "    .dataframe thead th {\n",
       "        text-align: right;\n",
       "    }\n",
       "</style>\n",
       "<table border=\"1\" class=\"dataframe\">\n",
       "  <thead>\n",
       "    <tr style=\"text-align: right;\">\n",
       "      <th></th>\n",
       "      <th>age</th>\n",
       "      <th>length</th>\n",
       "      <th>period</th>\n",
       "    </tr>\n",
       "  </thead>\n",
       "  <tbody>\n",
       "    <tr>\n",
       "      <th>1</th>\n",
       "      <td>1</td>\n",
       "      <td>215.25402</td>\n",
       "      <td>1</td>\n",
       "    </tr>\n",
       "    <tr>\n",
       "      <th>2</th>\n",
       "      <td>1</td>\n",
       "      <td>193.25764</td>\n",
       "      <td>1</td>\n",
       "    </tr>\n",
       "    <tr>\n",
       "      <th>3</th>\n",
       "      <td>1</td>\n",
       "      <td>202.57814</td>\n",
       "      <td>1</td>\n",
       "    </tr>\n",
       "    <tr>\n",
       "      <th>4</th>\n",
       "      <td>1</td>\n",
       "      <td>201.45968</td>\n",
       "      <td>1</td>\n",
       "    </tr>\n",
       "    <tr>\n",
       "      <th>5</th>\n",
       "      <td>1</td>\n",
       "      <td>232.03092</td>\n",
       "      <td>1</td>\n",
       "    </tr>\n",
       "  </tbody>\n",
       "</table>\n",
       "</div>"
      ],
      "text/plain": [
       "   age     length  period\n",
       "1    1  215.25402       1\n",
       "2    1  193.25764       1\n",
       "3    1  202.57814       1\n",
       "4    1  201.45968       1\n",
       "5    1  232.03092       1"
      ]
     },
     "execution_count": 2,
     "metadata": {},
     "output_type": "execute_result"
    }
   ],
   "source": [
    "data = pd.read_csv('walleye.csv',index_col=[0])\n",
    "data.head()"
   ]
  },
  {
   "attachments": {},
   "cell_type": "markdown",
   "metadata": {},
   "source": [
    "1:"
   ]
  },
  {
   "cell_type": "code",
   "execution_count": 3,
   "metadata": {},
   "outputs": [
    {
     "data": {
      "text/plain": [
       "<Axes: title={'center': 'length'}, xlabel='age'>"
      ]
     },
     "execution_count": 3,
     "metadata": {},
     "output_type": "execute_result"
    },
    {
     "data": {
      "image/png": "[encoded data removed]",
      "text/plain": [
       "<Figure size 640x480 with 1 Axes>"
      ]
     },
     "metadata": {},
     "output_type": "display_data"
    }
   ],
   "source": [
    "data[(data['age'] >= 5) & (data['age'] <= 8)].boxplot(column='length' ,by='age')"
   ]
  },
  {
   "attachments": {},
   "cell_type": "markdown",
   "metadata": {},
   "source": [
    "2:"
   ]
  },
  {
   "cell_type": "code",
   "execution_count": 27,
   "metadata": {},
   "outputs": [
    {
     "data": {
      "text/html": [
       "<div>\n",
       "<style scoped>\n",
       "    .dataframe tbody tr th:only-of-type {\n",
       "        vertical-align: middle;\n",
       "    }\n",
       "\n",
       "    .dataframe tbody tr th {\n",
       "        vertical-align: top;\n",
       "    }\n",
       "\n",
       "    .dataframe thead th {\n",
       "        text-align: right;\n",
       "    }\n",
       "</style>\n",
       "<table border=\"1\" class=\"dataframe\">\n",
       "  <thead>\n",
       "    <tr style=\"text-align: right;\">\n",
       "      <th></th>\n",
       "      <th>mean</th>\n",
       "      <th>std</th>\n",
       "    </tr>\n",
       "    <tr>\n",
       "      <th>age</th>\n",
       "      <th></th>\n",
       "      <th></th>\n",
       "    </tr>\n",
       "  </thead>\n",
       "  <tbody>\n",
       "    <tr>\n",
       "      <th>5</th>\n",
       "      <td>364.049748</td>\n",
       "      <td>30.542347</td>\n",
       "    </tr>\n",
       "    <tr>\n",
       "      <th>6</th>\n",
       "      <td>384.378698</td>\n",
       "      <td>29.068969</td>\n",
       "    </tr>\n",
       "    <tr>\n",
       "      <th>7</th>\n",
       "      <td>402.878277</td>\n",
       "      <td>27.834976</td>\n",
       "    </tr>\n",
       "    <tr>\n",
       "      <th>8</th>\n",
       "      <td>420.089369</td>\n",
       "      <td>28.385875</td>\n",
       "    </tr>\n",
       "  </tbody>\n",
       "</table>\n",
       "</div>"
      ],
      "text/plain": [
       "           mean        std\n",
       "age                       \n",
       "5    364.049748  30.542347\n",
       "6    384.378698  29.068969\n",
       "7    402.878277  27.834976\n",
       "8    420.089369  28.385875"
      ]
     },
     "execution_count": 27,
     "metadata": {},
     "output_type": "execute_result"
    }
   ],
   "source": [
    "data[(data['age'] >= 5) & (data['age'] <= 8)].groupby('age').describe()['length'][['mean', 'std']]"
   ]
  },
  {
   "attachments": {},
   "cell_type": "markdown",
   "metadata": {},
   "source": [
    "3:"
   ]
  },
  {
   "cell_type": "code",
   "execution_count": 12,
   "metadata": {},
   "outputs": [
    {
     "data": {
      "text/plain": [
       "<Axes: ylabel='Frequency'>"
      ]
     },
     "execution_count": 12,
     "metadata": {},
     "output_type": "execute_result"
    },
    {
     "data": {
      "image/png": "[encoded data removed]",
      "text/plain": [
       "<Figure size 640x480 with 4 Axes>"
      ]
     },
     "metadata": {},
     "output_type": "display_data"
    }
   ],
   "source": [
    "fig, axs = plt.subplots(2, 2, sharey=True)\n",
    "data[data['age'] == 5].plot.hist(column='length', ax=axs[0,0])\n",
    "data[data['age'] == 6].plot.hist(column='length', ax=axs[0,1])\n",
    "data[data['age'] == 7].plot.hist(column='length', ax=axs[1,0])\n",
    "data[data['age'] == 8].plot.hist(column='length', ax=axs[1,1])"
   ]
  },
  {
   "cell_type": "code",
   "execution_count": 13,
   "metadata": {},
   "outputs": [
    {
     "data": {
      "text/plain": [
       "993"
      ]
     },
     "execution_count": 13,
     "metadata": {},
     "output_type": "execute_result"
    }
   ],
   "source": [
    "data[data['age'] == 5].size"
   ]
  },
  {
   "cell_type": "code",
   "execution_count": 15,
   "metadata": {},
   "outputs": [
    {
     "data": {
      "text/plain": [
       "453"
      ]
     },
     "execution_count": 15,
     "metadata": {},
     "output_type": "execute_result"
    }
   ],
   "source": [
    "data[data['age'] == 7].size"
   ]
  },
  {
   "cell_type": "code",
   "execution_count": 20,
   "metadata": {},
   "outputs": [],
   "source": [
    "X = data[data['age'] == 5]['length']\n",
    "Y = data[data['age'] == 7]['length']"
   ]
  },
  {
   "attachments": {},
   "cell_type": "markdown",
   "metadata": {},
   "source": [
    "4:"
   ]
  },
  {
   "attachments": {},
   "cell_type": "markdown",
   "metadata": {},
   "source": [
    "Asuuming:  \n",
    "1. $ X_{1}, ... X_{n} \\sim \\mathcal{N}(\\mu_{1}, \\sigma_{1}^{2}) $ IID are the obsrevation for age $=$ 5.\n",
    "2. $ Y_{1}, ... Y_{m} \\sim \\mathcal{N}(\\mu_{2}, \\sigma_{2}^{2}) $ IID are the obsrevation for age $=$ 7.\n",
    "3. $ X_{i}, Y_{j} $ are independet for every $i, j$.  \n"
   ]
  },
  {
   "attachments": {},
   "cell_type": "markdown",
   "metadata": {},
   "source": [
    "We have:  \n",
    "$ {{\\bar{X}_{n} - \\bar{Y}_{m} - (\\mu{1} - \\mu{2})} \\over {\\sqrt{{{\\sigma_{1}^{2}  \\over n} + {\\sigma_{2}^{2} \\over m}}}}} \\sim \\mathcal{N}(0,1) $  \n",
    "By MLE we know:  \n",
    "$S_{i}^{2} \\xrightarrow{a.s} \\sigma_{i}^{2} $  \n",
    "So by slutsky's:  \n",
    "  \n",
    "$ {{\\bar{X}_{n} - \\bar{Y}_{m} - (\\mu{1} - \\mu{2})} \\over {\\sqrt{{{S_{1}^{2}  \\over n} + {S_{2}^{2} \\over m}}}}} \\xrightarrow{(d)} \\mathcal{N}(0,1) $  \n",
    "\n",
    "where $ \\bar{X}_{n}, \\bar{Y}_{m} $ are the sample's means and $ S_{1}^{2}, S_{2}^{2} $ are the sample's variences (with ddof 0)."
   ]
  },
  {
   "cell_type": "code",
   "execution_count": 22,
   "metadata": {},
   "outputs": [
    {
     "name": "stdout",
     "output_type": "stream",
     "text": [
      "confidence interval: (-44.339747876211284, -33.31731024011298)\n"
     ]
    }
   ],
   "source": [
    "confidence = 0.95\n",
    "alpha = 1 - confidence\n",
    "n = X.size\n",
    "m = Y.size\n",
    "x_mean = X.mean()\n",
    "y_mean = Y.mean()\n",
    "x_std_2 = X.var(ddof=0)\n",
    "y_std_2 = Y.var(ddof=0)\n",
    "t_crit = norm.ppf(1 - alpha/2)\n",
    "center = x_mean - y_mean\n",
    "diff = np.sqrt((x_std_2/n + y_std_2/m))\n",
    "interval = (center - t_crit * diff, center + t_crit * diff)\n",
    "print('confidence interval:', interval)\n",
    "\n"
   ]
  },
  {
   "attachments": {},
   "cell_type": "markdown",
   "metadata": {},
   "source": [
    "5:"
   ]
  },
  {
   "attachments": {},
   "cell_type": "markdown",
   "metadata": {},
   "source": [
    "We would like to reject $ H_{0}: \\mu_{1} = \\mu_{2} $  \n",
    "Under $H_{0}$ we have:  \n",
    "$ {{\\bar{X}_{n} - \\bar{Y}_{m}} \\over {\\sqrt{{{S_{1}^{2}  \\over n} + {S_{2}^{2} \\over m}}}}} \\xrightarrow{(d)} \\mathcal{N}(0,1) $  \n",
    "Denote $ T_{n, m} = {{\\bar{X}_{n} - \\bar{Y}_{m}} \\over {\\sqrt{{{S_{1}^{2}  \\over n} + {S_{2}^{2} \\over m}}}}} $  \n",
    "So we test by $ \\varphi_{\\alpha}(T_{n, m}) = 1\\{|T_{n, m}|\\ > q_{1-{\\alpha \\over 2}}\\} $ \n",
    "and we get that under $ H_{0}$: $ P(\\varphi_{\\alpha}(T_{n, m}) = 1) = \\alpha $.  \n",
    "Further more, $ p\\_ val(T_{n, m}) = 2P(\\mathcal{N}(0, 1) > |T_{n, m}|) $"
   ]
  },
  {
   "cell_type": "code",
   "execution_count": 29,
   "metadata": {},
   "outputs": [
    {
     "name": "stdout",
     "output_type": "stream",
     "text": [
      "p_val= 0.0\n"
     ]
    }
   ],
   "source": [
    "n = X.size\n",
    "m = Y.size\n",
    "x_mean = X.mean()\n",
    "y_mean = Y.mean()\n",
    "x_std_2 = X.var(ddof=0)\n",
    "y_std_2 = Y.var(ddof=0)\n",
    "T_n_m = (x_mean - y_mean) / np.sqrt((x_std_2/n + y_std_2/m))\n",
    "p_val = 2 * (1- norm.cdf(np.abs(T_n_m)))\n",
    "print('p_val=', p_val)"
   ]
  },
  {
   "attachments": {},
   "cell_type": "markdown",
   "metadata": {},
   "source": [
    "so we will reject"
   ]
  }
 ],
 "metadata": {
  "kernelspec": {
   "display_name": "venv",
   "language": "python",
   "name": "python3"
  },
  "language_info": {
   "codemirror_mode": {
    "name": "ipython",
    "version": 3
   },
   "file_extension": ".py",
   "mimetype": "text/x-python",
   "name": "python",
   "nbconvert_exporter": "python",
   "pygments_lexer": "ipython3",
   "version": "3.8.4"
  },
  "orig_nbformat": 4
 },
 "nbformat": 4,
 "nbformat_minor": 2
}
