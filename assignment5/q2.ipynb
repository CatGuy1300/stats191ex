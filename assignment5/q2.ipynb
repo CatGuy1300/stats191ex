{
 "cells": [
  {
   "cell_type": "code",
   "execution_count": 93,
   "metadata": {},
   "outputs": [],
   "source": [
    "import pandas as pd\n",
    "import matplotlib.pyplot as plt\n",
    "from scipy.stats import t, f, multivariate_normal, norm\n",
    "import numpy as np\n",
    "import statsmodels.api as sm\n",
    "from Linear_Reg_Diagnostic import Linear_Reg_Diagnostic\n",
    "import statsmodels.stats.outliers_influence as smoi\n",
    "from statsmodels.graphics.api import interaction_plot, qqplot\n",
    "from statsmodels.stats.anova import anova_lm\n",
    "import statsmodels.formula.api as smf\n",
    "from statsmodels.genmod.generalized_linear_model import GLMResults\n",
    "import patsy\n",
    "from sklearn import model_selection, linear_model, metrics\n",
    "\n",
    "\n"
   ]
  },
  {
   "cell_type": "code",
   "execution_count": 94,
   "metadata": {},
   "outputs": [
    {
     "data": {
      "text/html": [
       "<div>\n",
       "<style scoped>\n",
       "    .dataframe tbody tr th:only-of-type {\n",
       "        vertical-align: middle;\n",
       "    }\n",
       "\n",
       "    .dataframe tbody tr th {\n",
       "        vertical-align: top;\n",
       "    }\n",
       "\n",
       "    .dataframe thead th {\n",
       "        text-align: right;\n",
       "    }\n",
       "</style>\n",
       "<table border=\"1\" class=\"dataframe\">\n",
       "  <thead>\n",
       "    <tr style=\"text-align: right;\">\n",
       "      <th></th>\n",
       "      <th>lcavol</th>\n",
       "      <th>lweight</th>\n",
       "      <th>age</th>\n",
       "      <th>lbph</th>\n",
       "      <th>svi</th>\n",
       "      <th>lcp</th>\n",
       "      <th>gleason</th>\n",
       "      <th>pgg45</th>\n",
       "      <th>lpsa</th>\n",
       "      <th>train</th>\n",
       "    </tr>\n",
       "  </thead>\n",
       "  <tbody>\n",
       "    <tr>\n",
       "      <th>1</th>\n",
       "      <td>-0.579818</td>\n",
       "      <td>2.769459</td>\n",
       "      <td>50</td>\n",
       "      <td>-1.386294</td>\n",
       "      <td>0</td>\n",
       "      <td>-1.386294</td>\n",
       "      <td>6</td>\n",
       "      <td>0</td>\n",
       "      <td>-0.430783</td>\n",
       "      <td>T</td>\n",
       "    </tr>\n",
       "    <tr>\n",
       "      <th>2</th>\n",
       "      <td>-0.994252</td>\n",
       "      <td>3.319626</td>\n",
       "      <td>58</td>\n",
       "      <td>-1.386294</td>\n",
       "      <td>0</td>\n",
       "      <td>-1.386294</td>\n",
       "      <td>6</td>\n",
       "      <td>0</td>\n",
       "      <td>-0.162519</td>\n",
       "      <td>T</td>\n",
       "    </tr>\n",
       "    <tr>\n",
       "      <th>3</th>\n",
       "      <td>-0.510826</td>\n",
       "      <td>2.691243</td>\n",
       "      <td>74</td>\n",
       "      <td>-1.386294</td>\n",
       "      <td>0</td>\n",
       "      <td>-1.386294</td>\n",
       "      <td>7</td>\n",
       "      <td>20</td>\n",
       "      <td>-0.162519</td>\n",
       "      <td>T</td>\n",
       "    </tr>\n",
       "    <tr>\n",
       "      <th>4</th>\n",
       "      <td>-1.203973</td>\n",
       "      <td>3.282789</td>\n",
       "      <td>58</td>\n",
       "      <td>-1.386294</td>\n",
       "      <td>0</td>\n",
       "      <td>-1.386294</td>\n",
       "      <td>6</td>\n",
       "      <td>0</td>\n",
       "      <td>-0.162519</td>\n",
       "      <td>T</td>\n",
       "    </tr>\n",
       "    <tr>\n",
       "      <th>5</th>\n",
       "      <td>0.751416</td>\n",
       "      <td>3.432373</td>\n",
       "      <td>62</td>\n",
       "      <td>-1.386294</td>\n",
       "      <td>0</td>\n",
       "      <td>-1.386294</td>\n",
       "      <td>6</td>\n",
       "      <td>0</td>\n",
       "      <td>0.371564</td>\n",
       "      <td>T</td>\n",
       "    </tr>\n",
       "  </tbody>\n",
       "</table>\n",
       "</div>"
      ],
      "text/plain": [
       "     lcavol   lweight  age      lbph  svi       lcp  gleason  pgg45      lpsa  \\\n",
       "1 -0.579818  2.769459   50 -1.386294    0 -1.386294        6      0 -0.430783   \n",
       "2 -0.994252  3.319626   58 -1.386294    0 -1.386294        6      0 -0.162519   \n",
       "3 -0.510826  2.691243   74 -1.386294    0 -1.386294        7     20 -0.162519   \n",
       "4 -1.203973  3.282789   58 -1.386294    0 -1.386294        6      0 -0.162519   \n",
       "5  0.751416  3.432373   62 -1.386294    0 -1.386294        6      0  0.371564   \n",
       "\n",
       "  train  \n",
       "1     T  \n",
       "2     T  \n",
       "3     T  \n",
       "4     T  \n",
       "5     T  "
      ]
     },
     "execution_count": 94,
     "metadata": {},
     "output_type": "execute_result"
    }
   ],
   "source": [
    "data = pd.read_csv(\"https://hastie.su.domains/ElemStatLearn/datasets/prostate.data\",  delim_whitespace=True)\n",
    "data.head()"
   ]
  },
  {
   "attachments": {},
   "cell_type": "markdown",
   "metadata": {},
   "source": [
    "sol 1:"
   ]
  },
  {
   "cell_type": "code",
   "execution_count": 95,
   "metadata": {},
   "outputs": [],
   "source": [
    "def add_noise_features(dmatrix, k):\n",
    "    return dmatrix.assign(**{f'noise_{i}': norm.rvs(size=dmatrix.shape[0]) for i in range(k)})"
   ]
  },
  {
   "cell_type": "code",
   "execution_count": 96,
   "metadata": {},
   "outputs": [],
   "source": [
    "def get_noisy(x, y, k):\n",
    "    var = sm.OLS(y, x).fit().mse_resid\n",
    "    noisy_y = y + norm.rvs(scale=var, size=y.size)\n",
    "    noisy_x = add_noise_features(x, k)\n",
    "    return noisy_x, noisy_y"
   ]
  },
  {
   "cell_type": "code",
   "execution_count": 97,
   "metadata": {},
   "outputs": [],
   "source": [
    "x, y = data.drop(columns=['train', 'lpsa']), data['lpsa']"
   ]
  },
  {
   "cell_type": "code",
   "execution_count": 98,
   "metadata": {},
   "outputs": [],
   "source": [
    "noisy_x, noisy_y = get_noisy(x, y, 20)"
   ]
  },
  {
   "cell_type": "code",
   "execution_count": 99,
   "metadata": {},
   "outputs": [],
   "source": [
    "X1, X2, Y1, Y2 = model_selection.train_test_split(noisy_x, noisy_y, test_size=0.5, random_state=42)"
   ]
  },
  {
   "attachments": {},
   "cell_type": "markdown",
   "metadata": {},
   "source": [
    "sol 2:"
   ]
  },
  {
   "cell_type": "code",
   "execution_count": 100,
   "metadata": {},
   "outputs": [
    {
     "name": "stdout",
     "output_type": "stream",
     "text": [
      "  param_alpha  mean_test_score\n",
      "0       0.001        -3.066264\n",
      "1       0.003        -2.817068\n",
      "2        0.01        -2.330086\n",
      "3        0.03        -1.787618\n",
      "4         0.1        -1.281062\n",
      "5         0.3        -1.130332\n",
      "6           1        -1.721935\n",
      "7           3        -1.698885\n"
     ]
    }
   ],
   "source": [
    "lasso = linear_model.Lasso()\n",
    "parameters = {'alpha':[0.001, 0.003, 0.01, 0.03, 0.1, 0.3, 1, 3]}\n",
    "clf = model_selection.GridSearchCV(lasso, parameters, scoring='neg_mean_squared_error', )\n",
    "clf.fit(X1, Y1,)\n",
    "print(pd.DataFrame(clf.cv_results_)[['param_alpha', 'mean_test_score']])\n",
    "beta_lasso = clf.best_estimator_.coef_\n",
    "lasso_model = clf.best_estimator_"
   ]
  },
  {
   "cell_type": "code",
   "execution_count": 101,
   "metadata": {},
   "outputs": [
    {
     "name": "stdout",
     "output_type": "stream",
     "text": [
      "   param_alpha  mean_test_score\n",
      "0        0.001        -3.239941\n",
      "1        0.003        -3.234293\n",
      "2         0.01        -3.215012\n",
      "3         0.03        -3.163703\n",
      "4          0.1        -3.017571\n",
      "5          0.3        -2.749483\n",
      "6            1        -2.302759\n",
      "7            3        -1.843990\n",
      "8           10        -1.500448\n",
      "9           30        -1.413104\n",
      "10         100        -1.508258\n",
      "11         300        -1.630660\n"
     ]
    }
   ],
   "source": [
    "ridge = linear_model.Ridge()\n",
    "parameters = {'alpha':[0.001, 0.003, 0.01, 0.03, 0.1, 0.3, 1, 3, 10, 30, 100, 300]}\n",
    "clf = model_selection.GridSearchCV(ridge, parameters, scoring='neg_mean_squared_error', )\n",
    "clf.fit(X1, Y1,)\n",
    "print(pd.DataFrame(clf.cv_results_)[['param_alpha', 'mean_test_score']])\n",
    "beta_ridge = clf.best_estimator_.coef_\n",
    "ridge_model = clf.best_estimator_"
   ]
  },
  {
   "attachments": {},
   "cell_type": "markdown",
   "metadata": {},
   "source": [
    "sol 3:"
   ]
  },
  {
   "cell_type": "code",
   "execution_count": 102,
   "metadata": {},
   "outputs": [
    {
     "data": {
      "text/plain": [
       "0.7324019852636844"
      ]
     },
     "execution_count": 102,
     "metadata": {},
     "output_type": "execute_result"
    }
   ],
   "source": [
    "metrics.mean_squared_error(lasso_model.predict(X2), Y2)"
   ]
  },
  {
   "cell_type": "code",
   "execution_count": 103,
   "metadata": {},
   "outputs": [
    {
     "data": {
      "text/plain": [
       "0.7368060048928802"
      ]
     },
     "execution_count": 103,
     "metadata": {},
     "output_type": "execute_result"
    }
   ],
   "source": [
    "metrics.mean_squared_error(ridge_model.predict(X2), Y2)"
   ]
  },
  {
   "attachments": {},
   "cell_type": "markdown",
   "metadata": {},
   "source": [
    "we can see that lasso got here a slightly better score"
   ]
  },
  {
   "attachments": {},
   "cell_type": "markdown",
   "metadata": {},
   "source": [
    "sol 4:"
   ]
  },
  {
   "cell_type": "code",
   "execution_count": 111,
   "metadata": {},
   "outputs": [],
   "source": [
    "x, y = data.drop(columns=['train', 'lpsa']), data['lpsa']"
   ]
  },
  {
   "cell_type": "code",
   "execution_count": 112,
   "metadata": {},
   "outputs": [],
   "source": [
    "noisy_x, noisy_y = get_noisy(x, y, 50)"
   ]
  },
  {
   "cell_type": "code",
   "execution_count": 113,
   "metadata": {},
   "outputs": [],
   "source": [
    "X1, X2, Y1, Y2 = model_selection.train_test_split(noisy_x, noisy_y, test_size=0.5, random_state=42)"
   ]
  },
  {
   "cell_type": "code",
   "execution_count": 122,
   "metadata": {},
   "outputs": [
    {
     "name": "stdout",
     "output_type": "stream",
     "text": [
      "  param_alpha  mean_test_score\n",
      "0       0.001        -2.671088\n",
      "1       0.003        -2.512719\n",
      "2        0.01        -2.080017\n",
      "3        0.03        -1.413301\n",
      "4         0.1        -1.022331\n",
      "5         0.3        -1.172024\n",
      "6           1        -1.854838\n",
      "7           3        -1.839602\n"
     ]
    }
   ],
   "source": [
    "lasso = linear_model.Lasso(max_iter=5000)\n",
    "parameters = {'alpha':[0.001, 0.003, 0.01, 0.03, 0.1, 0.3, 1, 3]}\n",
    "clf = model_selection.GridSearchCV(lasso, parameters, scoring='neg_mean_squared_error', )\n",
    "clf.fit(X1, Y1,)\n",
    "print(pd.DataFrame(clf.cv_results_)[['param_alpha', 'mean_test_score']])\n",
    "beta_lasso = clf.best_estimator_.coef_\n",
    "lasso_model = clf.best_estimator_"
   ]
  },
  {
   "cell_type": "code",
   "execution_count": 123,
   "metadata": {},
   "outputs": [
    {
     "name": "stdout",
     "output_type": "stream",
     "text": [
      "   param_alpha  mean_test_score\n",
      "0        0.001        -2.889300\n",
      "1        0.003        -2.887870\n",
      "2         0.01        -2.882887\n",
      "3         0.03        -2.868815\n",
      "4          0.1        -2.821421\n",
      "5          0.3        -2.700135\n",
      "6            1        -2.391155\n",
      "7            3        -1.952030\n",
      "8           10        -1.521462\n",
      "9           30        -1.359946\n",
      "10         100        -1.464597\n",
      "11         300        -1.660897\n"
     ]
    }
   ],
   "source": [
    "ridge = linear_model.Ridge()\n",
    "parameters = {'alpha':[0.001, 0.003, 0.01, 0.03, 0.1, 0.3, 1, 3, 10, 30, 100, 300]}\n",
    "clf = model_selection.GridSearchCV(ridge, parameters, scoring='neg_mean_squared_error', )\n",
    "clf.fit(X1, Y1,)\n",
    "print(pd.DataFrame(clf.cv_results_)[['param_alpha', 'mean_test_score']])\n",
    "beta_ridge = clf.best_estimator_.coef_\n",
    "ridge_model = clf.best_estimator_"
   ]
  },
  {
   "cell_type": "code",
   "execution_count": 124,
   "metadata": {},
   "outputs": [
    {
     "data": {
      "text/plain": [
       "1.09400901541346"
      ]
     },
     "execution_count": 124,
     "metadata": {},
     "output_type": "execute_result"
    }
   ],
   "source": [
    "metrics.mean_squared_error(lasso_model.predict(X2), Y2)"
   ]
  },
  {
   "cell_type": "code",
   "execution_count": 125,
   "metadata": {},
   "outputs": [
    {
     "data": {
      "text/plain": [
       "1.1802662619010904"
      ]
     },
     "execution_count": 125,
     "metadata": {},
     "output_type": "execute_result"
    }
   ],
   "source": [
    "metrics.mean_squared_error(ridge_model.predict(X2), Y2)"
   ]
  },
  {
   "attachments": {},
   "cell_type": "markdown",
   "metadata": {},
   "source": [
    "lasso was better again"
   ]
  }
 ],
 "metadata": {
  "kernelspec": {
   "display_name": "venv",
   "language": "python",
   "name": "python3"
  },
  "language_info": {
   "codemirror_mode": {
    "name": "ipython",
    "version": 3
   },
   "file_extension": ".py",
   "mimetype": "text/x-python",
   "name": "python",
   "nbconvert_exporter": "python",
   "pygments_lexer": "ipython3",
   "version": "3.8.4"
  },
  "orig_nbformat": 4
 },
 "nbformat": 4,
 "nbformat_minor": 2
}
