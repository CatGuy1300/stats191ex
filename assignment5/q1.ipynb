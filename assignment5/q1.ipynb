{
 "cells": [
  {
   "cell_type": "code",
   "execution_count": 1,
   "metadata": {},
   "outputs": [],
   "source": [
    "import pandas as pd\n",
    "import matplotlib.pyplot as plt\n",
    "from scipy.stats import t, f, multivariate_normal, norm\n",
    "import numpy as np\n",
    "import statsmodels.api as sm\n",
    "from Linear_Reg_Diagnostic import Linear_Reg_Diagnostic\n",
    "import statsmodels.stats.outliers_influence as smoi\n",
    "from statsmodels.graphics.api import interaction_plot, qqplot\n",
    "from statsmodels.stats.anova import anova_lm\n",
    "import statsmodels.formula.api as smf\n",
    "from statsmodels.genmod.generalized_linear_model import GLMResults\n",
    "from sklearn import model_selection, linear_model\n",
    "\n"
   ]
  },
  {
   "cell_type": "code",
   "execution_count": 2,
   "metadata": {},
   "outputs": [],
   "source": [
    "x_data = np.loadtxt('NRTI_X.csv', delimiter=',')"
   ]
  },
  {
   "cell_type": "code",
   "execution_count": 3,
   "metadata": {},
   "outputs": [],
   "source": [
    "y_data = np.loadtxt('NRTI_Y.csv', delimiter=',')"
   ]
  },
  {
   "attachments": {},
   "cell_type": "markdown",
   "metadata": {},
   "source": [
    "sol 1:"
   ]
  },
  {
   "cell_type": "code",
   "execution_count": 4,
   "metadata": {},
   "outputs": [],
   "source": [
    "X1, X2, Y1, Y2 = model_selection.train_test_split(x_data, y_data, test_size=0.5, random_state=42)"
   ]
  },
  {
   "attachments": {},
   "cell_type": "markdown",
   "metadata": {},
   "source": [
    "sol 2:"
   ]
  },
  {
   "cell_type": "code",
   "execution_count": 5,
   "metadata": {},
   "outputs": [
    {
     "data": {
      "text/html": [
       "<style>#sk-container-id-1 {color: black;background-color: white;}#sk-container-id-1 pre{padding: 0;}#sk-container-id-1 div.sk-toggleable {background-color: white;}#sk-container-id-1 label.sk-toggleable__label {cursor: pointer;display: block;width: 100%;margin-bottom: 0;padding: 0.3em;box-sizing: border-box;text-align: center;}#sk-container-id-1 label.sk-toggleable__label-arrow:before {content: \"▸\";float: left;margin-right: 0.25em;color: #696969;}#sk-container-id-1 label.sk-toggleable__label-arrow:hover:before {color: black;}#sk-container-id-1 div.sk-estimator:hover label.sk-toggleable__label-arrow:before {color: black;}#sk-container-id-1 div.sk-toggleable__content {max-height: 0;max-width: 0;overflow: hidden;text-align: left;background-color: #f0f8ff;}#sk-container-id-1 div.sk-toggleable__content pre {margin: 0.2em;color: black;border-radius: 0.25em;background-color: #f0f8ff;}#sk-container-id-1 input.sk-toggleable__control:checked~div.sk-toggleable__content {max-height: 200px;max-width: 100%;overflow: auto;}#sk-container-id-1 input.sk-toggleable__control:checked~label.sk-toggleable__label-arrow:before {content: \"▾\";}#sk-container-id-1 div.sk-estimator input.sk-toggleable__control:checked~label.sk-toggleable__label {background-color: #d4ebff;}#sk-container-id-1 div.sk-label input.sk-toggleable__control:checked~label.sk-toggleable__label {background-color: #d4ebff;}#sk-container-id-1 input.sk-hidden--visually {border: 0;clip: rect(1px 1px 1px 1px);clip: rect(1px, 1px, 1px, 1px);height: 1px;margin: -1px;overflow: hidden;padding: 0;position: absolute;width: 1px;}#sk-container-id-1 div.sk-estimator {font-family: monospace;background-color: #f0f8ff;border: 1px dotted black;border-radius: 0.25em;box-sizing: border-box;margin-bottom: 0.5em;}#sk-container-id-1 div.sk-estimator:hover {background-color: #d4ebff;}#sk-container-id-1 div.sk-parallel-item::after {content: \"\";width: 100%;border-bottom: 1px solid gray;flex-grow: 1;}#sk-container-id-1 div.sk-label:hover label.sk-toggleable__label {background-color: #d4ebff;}#sk-container-id-1 div.sk-serial::before {content: \"\";position: absolute;border-left: 1px solid gray;box-sizing: border-box;top: 0;bottom: 0;left: 50%;z-index: 0;}#sk-container-id-1 div.sk-serial {display: flex;flex-direction: column;align-items: center;background-color: white;padding-right: 0.2em;padding-left: 0.2em;position: relative;}#sk-container-id-1 div.sk-item {position: relative;z-index: 1;}#sk-container-id-1 div.sk-parallel {display: flex;align-items: stretch;justify-content: center;background-color: white;position: relative;}#sk-container-id-1 div.sk-item::before, #sk-container-id-1 div.sk-parallel-item::before {content: \"\";position: absolute;border-left: 1px solid gray;box-sizing: border-box;top: 0;bottom: 0;left: 50%;z-index: -1;}#sk-container-id-1 div.sk-parallel-item {display: flex;flex-direction: column;z-index: 1;position: relative;background-color: white;}#sk-container-id-1 div.sk-parallel-item:first-child::after {align-self: flex-end;width: 50%;}#sk-container-id-1 div.sk-parallel-item:last-child::after {align-self: flex-start;width: 50%;}#sk-container-id-1 div.sk-parallel-item:only-child::after {width: 0;}#sk-container-id-1 div.sk-dashed-wrapped {border: 1px dashed gray;margin: 0 0.4em 0.5em 0.4em;box-sizing: border-box;padding-bottom: 0.4em;background-color: white;}#sk-container-id-1 div.sk-label label {font-family: monospace;font-weight: bold;display: inline-block;line-height: 1.2em;}#sk-container-id-1 div.sk-label-container {text-align: center;}#sk-container-id-1 div.sk-container {/* jupyter's `normalize.less` sets `[hidden] { display: none; }` but bootstrap.min.css set `[hidden] { display: none !important; }` so we also need the `!important` here to be able to override the default hidden behavior on the sphinx rendered scikit-learn.org. See: https://github.com/scikit-learn/scikit-learn/issues/21755 */display: inline-block !important;position: relative;}#sk-container-id-1 div.sk-text-repr-fallback {display: none;}</style><div id=\"sk-container-id-1\" class=\"sk-top-container\"><div class=\"sk-text-repr-fallback\"><pre>GridSearchCV(estimator=Lasso(),\n",
       "             param_grid={&#x27;alpha&#x27;: [0.001, 0.003, 0.01, 0.03, 0.1, 0.3, 1, 3]},\n",
       "             scoring=&#x27;neg_mean_squared_error&#x27;)</pre><b>In a Jupyter environment, please rerun this cell to show the HTML representation or trust the notebook. <br />On GitHub, the HTML representation is unable to render, please try loading this page with nbviewer.org.</b></div><div class=\"sk-container\" hidden><div class=\"sk-item sk-dashed-wrapped\"><div class=\"sk-label-container\"><div class=\"sk-label sk-toggleable\"><input class=\"sk-toggleable__control sk-hidden--visually\" id=\"sk-estimator-id-1\" type=\"checkbox\" ><label for=\"sk-estimator-id-1\" class=\"sk-toggleable__label sk-toggleable__label-arrow\">GridSearchCV</label><div class=\"sk-toggleable__content\"><pre>GridSearchCV(estimator=Lasso(),\n",
       "             param_grid={&#x27;alpha&#x27;: [0.001, 0.003, 0.01, 0.03, 0.1, 0.3, 1, 3]},\n",
       "             scoring=&#x27;neg_mean_squared_error&#x27;)</pre></div></div></div><div class=\"sk-parallel\"><div class=\"sk-parallel-item\"><div class=\"sk-item\"><div class=\"sk-label-container\"><div class=\"sk-label sk-toggleable\"><input class=\"sk-toggleable__control sk-hidden--visually\" id=\"sk-estimator-id-2\" type=\"checkbox\" ><label for=\"sk-estimator-id-2\" class=\"sk-toggleable__label sk-toggleable__label-arrow\">estimator: Lasso</label><div class=\"sk-toggleable__content\"><pre>Lasso()</pre></div></div></div><div class=\"sk-serial\"><div class=\"sk-item\"><div class=\"sk-estimator sk-toggleable\"><input class=\"sk-toggleable__control sk-hidden--visually\" id=\"sk-estimator-id-3\" type=\"checkbox\" ><label for=\"sk-estimator-id-3\" class=\"sk-toggleable__label sk-toggleable__label-arrow\">Lasso</label><div class=\"sk-toggleable__content\"><pre>Lasso()</pre></div></div></div></div></div></div></div></div></div></div>"
      ],
      "text/plain": [
       "GridSearchCV(estimator=Lasso(),\n",
       "             param_grid={'alpha': [0.001, 0.003, 0.01, 0.03, 0.1, 0.3, 1, 3]},\n",
       "             scoring='neg_mean_squared_error')"
      ]
     },
     "execution_count": 5,
     "metadata": {},
     "output_type": "execute_result"
    }
   ],
   "source": [
    "lasso = linear_model.Lasso()\n",
    "parameters = {'alpha':[0.001, 0.003, 0.01, 0.03, 0.1, 0.3, 1, 3]}\n",
    "clf = model_selection.GridSearchCV(lasso, parameters, scoring='neg_mean_squared_error', )\n",
    "clf.fit(X1, Y1,)"
   ]
  },
  {
   "cell_type": "code",
   "execution_count": 6,
   "metadata": {},
   "outputs": [
    {
     "name": "stdout",
     "output_type": "stream",
     "text": [
      "  param_alpha  mean_test_score\n",
      "0       0.001        -0.757806\n",
      "1       0.003        -0.661475\n",
      "2        0.01        -0.554125\n",
      "3        0.03        -0.583081\n",
      "4         0.1        -0.683465\n",
      "5         0.3        -1.009478\n",
      "6           1        -4.716305\n",
      "7           3        -5.594626\n"
     ]
    }
   ],
   "source": [
    "print(pd.DataFrame(clf.cv_results_)[['param_alpha', 'mean_test_score']])"
   ]
  },
  {
   "cell_type": "code",
   "execution_count": 7,
   "metadata": {},
   "outputs": [],
   "source": [
    "beta = clf.best_estimator_.coef_"
   ]
  },
  {
   "cell_type": "code",
   "execution_count": 8,
   "metadata": {},
   "outputs": [
    {
     "data": {
      "text/plain": [
       "26"
      ]
     },
     "execution_count": 8,
     "metadata": {},
     "output_type": "execute_result"
    }
   ],
   "source": [
    "(beta != 0).sum()"
   ]
  },
  {
   "cell_type": "code",
   "execution_count": 9,
   "metadata": {},
   "outputs": [
    {
     "data": {
      "text/plain": [
       "91"
      ]
     },
     "execution_count": 9,
     "metadata": {},
     "output_type": "execute_result"
    }
   ],
   "source": [
    "beta.size"
   ]
  },
  {
   "attachments": {},
   "cell_type": "markdown",
   "metadata": {},
   "source": [
    "it is sparse"
   ]
  },
  {
   "attachments": {},
   "cell_type": "markdown",
   "metadata": {},
   "source": [
    "sol 3:"
   ]
  },
  {
   "cell_type": "code",
   "execution_count": 10,
   "metadata": {},
   "outputs": [],
   "source": [
    "selected_X2 = X2[:, beta!=0]"
   ]
  },
  {
   "cell_type": "code",
   "execution_count": 11,
   "metadata": {},
   "outputs": [
    {
     "data": {
      "text/plain": [
       "(317, 26)"
      ]
     },
     "execution_count": 11,
     "metadata": {},
     "output_type": "execute_result"
    }
   ],
   "source": [
    "selected_X2.shape"
   ]
  },
  {
   "cell_type": "code",
   "execution_count": 12,
   "metadata": {},
   "outputs": [],
   "source": [
    "model = sm.OLS(Y2, selected_X2).fit()"
   ]
  },
  {
   "cell_type": "code",
   "execution_count": 13,
   "metadata": {},
   "outputs": [
    {
     "name": "stdout",
     "output_type": "stream",
     "text": [
      "                                 OLS Regression Results                                \n",
      "=======================================================================================\n",
      "Dep. Variable:                      y   R-squared (uncentered):                   0.972\n",
      "Model:                            OLS   Adj. R-squared (uncentered):              0.969\n",
      "Method:                 Least Squares   F-statistic:                              387.3\n",
      "Date:                Wed, 17 May 2023   Prob (F-statistic):                   4.11e-209\n",
      "Time:                        11:35:45   Log-Likelihood:                         -314.92\n",
      "No. Observations:                 317   AIC:                                      681.8\n",
      "Df Residuals:                     291   BIC:                                      779.6\n",
      "Df Model:                          26                                                  \n",
      "Covariance Type:            nonrobust                                                  \n",
      "==============================================================================\n",
      "                 coef    std err          t      P>|t|      [0.025      0.975]\n",
      "------------------------------------------------------------------------------\n",
      "x1             0.0134      0.140      0.096      0.924      -0.262       0.289\n",
      "x2            -0.0261      0.145     -0.180      0.857      -0.311       0.259\n",
      "x3             0.3187      0.259      1.231      0.219      -0.191       0.828\n",
      "x4             1.8711      0.220      8.507      0.000       1.438       2.304\n",
      "x5             0.2886      0.109      2.648      0.009       0.074       0.503\n",
      "x6             1.5373      0.418      3.678      0.000       0.715       2.360\n",
      "x7            -0.0318      0.161     -0.197      0.844      -0.349       0.286\n",
      "x8            -0.2407      0.522     -0.461      0.645      -1.267       0.786\n",
      "x9             0.8985      0.478      1.878      0.061      -0.043       1.840\n",
      "x10           -0.0367      0.111     -0.331      0.741      -0.255       0.182\n",
      "x11            0.6951      0.235      2.959      0.003       0.233       1.157\n",
      "x12            0.5746      0.265      2.167      0.031       0.053       1.096\n",
      "x13            0.3674      0.395      0.931      0.353      -0.409       1.144\n",
      "x14           -0.0617      0.129     -0.479      0.632      -0.315       0.192\n",
      "x15           -0.0032      0.089     -0.036      0.971      -0.178       0.171\n",
      "x16            0.0558      0.151      0.370      0.711      -0.241       0.352\n",
      "x17           -0.1649      0.158     -1.042      0.298      -0.476       0.147\n",
      "x18            0.3390      0.136      2.493      0.013       0.071       0.607\n",
      "x19            4.5862      0.076     60.578      0.000       4.437       4.735\n",
      "x20            0.3514      0.194      1.812      0.071      -0.030       0.733\n",
      "x21            0.0686      0.095      0.726      0.469      -0.118       0.255\n",
      "x22            0.1819      0.085      2.138      0.033       0.014       0.349\n",
      "x23            0.0564      0.139      0.407      0.685      -0.217       0.330\n",
      "x24            0.5765      0.143      4.025      0.000       0.295       0.858\n",
      "x25            0.5654      0.107      5.262      0.000       0.354       0.777\n",
      "x26            0.1797      0.144      1.245      0.214      -0.104       0.464\n",
      "==============================================================================\n",
      "Omnibus:                      251.135   Durbin-Watson:                   1.974\n",
      "Prob(Omnibus):                  0.000   Jarque-Bera (JB):             8460.886\n",
      "Skew:                           2.866   Prob(JB):                         0.00\n",
      "Kurtosis:                      27.652   Cond. No.                         19.2\n",
      "==============================================================================\n",
      "\n",
      "Notes:\n",
      "[1] R² is computed without centering (uncentered) since the model does not contain a constant.\n",
      "[2] Standard Errors assume that the covariance matrix of the errors is correctly specified.\n"
     ]
    }
   ],
   "source": [
    "print(model.summary())"
   ]
  },
  {
   "cell_type": "code",
   "execution_count": 14,
   "metadata": {},
   "outputs": [
    {
     "name": "stdout",
     "output_type": "stream",
     "text": [
      "[[-0.26189343  0.28875545]\n",
      " [-0.31065899  0.25855371]\n",
      " [-0.19069904  0.82805785]\n",
      " [ 1.43822011  2.30396768]\n",
      " [ 0.07406759  0.50319248]\n",
      " [ 0.7145972   2.36007406]\n",
      " [-0.34947506  0.28591184]\n",
      " [-1.2671856   0.78586298]\n",
      " [-0.04324633  1.84020094]\n",
      " [-0.25486552  0.18150479]\n",
      " [ 0.23272986  1.15746842]\n",
      " [ 0.05280409  1.09630268]\n",
      " [-0.40945908  1.14435257]\n",
      " [-0.31513357  0.19175283]\n",
      " [-0.17751372  0.17112635]\n",
      " [-0.24085277  0.35246608]\n",
      " [-0.47646181  0.1465736 ]\n",
      " [ 0.07135336  0.60663423]\n",
      " [ 4.43719281  4.73519864]\n",
      " [-0.03029594  0.73305927]\n",
      " [-0.11753091  0.2548062 ]\n",
      " [ 0.01442305  0.34933329]\n",
      " [-0.21670319  0.32953881]\n",
      " [ 0.29458669  0.85831346]\n",
      " [ 0.35389981  0.77687969]\n",
      " [-0.10434285  0.46369083]]\n"
     ]
    }
   ],
   "source": [
    "print(model.conf_int())"
   ]
  }
 ],
 "metadata": {
  "kernelspec": {
   "display_name": "venv",
   "language": "python",
   "name": "python3"
  },
  "language_info": {
   "codemirror_mode": {
    "name": "ipython",
    "version": 3
   },
   "file_extension": ".py",
   "mimetype": "text/x-python",
   "name": "python",
   "nbconvert_exporter": "python",
   "pygments_lexer": "ipython3",
   "version": "3.8.4"
  },
  "orig_nbformat": 4
 },
 "nbformat": 4,
 "nbformat_minor": 2
}
