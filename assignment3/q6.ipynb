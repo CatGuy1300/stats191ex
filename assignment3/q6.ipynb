{
 "cells": [
  {
   "cell_type": "code",
   "execution_count": 1,
   "metadata": {},
   "outputs": [],
   "source": [
    "import pandas as pd\n",
    "import matplotlib.pyplot as plt\n",
    "from scipy.stats import t, f, multivariate_normal, norm\n",
    "import numpy as np\n",
    "import statsmodels.api as sm\n",
    "from Linear_Reg_Diagnostic import Linear_Reg_Diagnostic\n",
    "import statsmodels.stats.outliers_influence as smoi\n",
    "from statsmodels.graphics.api import interaction_plot, qqplot\n",
    "from statsmodels.stats.anova import anova_lm\n"
   ]
  },
  {
   "cell_type": "code",
   "execution_count": 2,
   "metadata": {},
   "outputs": [],
   "source": [
    "fever = pd.read_csv(\"http://stats191.stanford.edu/data/hayfever.table\",  delim_whitespace=True, index_col='id')\n"
   ]
  },
  {
   "cell_type": "code",
   "execution_count": 3,
   "metadata": {},
   "outputs": [
    {
     "data": {
      "text/html": [
       "<div>\n",
       "<style scoped>\n",
       "    .dataframe tbody tr th:only-of-type {\n",
       "        vertical-align: middle;\n",
       "    }\n",
       "\n",
       "    .dataframe tbody tr th {\n",
       "        vertical-align: top;\n",
       "    }\n",
       "\n",
       "    .dataframe thead th {\n",
       "        text-align: right;\n",
       "    }\n",
       "</style>\n",
       "<table border=\"1\" class=\"dataframe\">\n",
       "  <thead>\n",
       "    <tr style=\"text-align: right;\">\n",
       "      <th></th>\n",
       "      <th>hours</th>\n",
       "      <th>A</th>\n",
       "      <th>B</th>\n",
       "    </tr>\n",
       "    <tr>\n",
       "      <th>id</th>\n",
       "      <th></th>\n",
       "      <th></th>\n",
       "      <th></th>\n",
       "    </tr>\n",
       "  </thead>\n",
       "  <tbody>\n",
       "    <tr>\n",
       "      <th>1</th>\n",
       "      <td>2.9</td>\n",
       "      <td>1</td>\n",
       "      <td>1</td>\n",
       "    </tr>\n",
       "    <tr>\n",
       "      <th>2</th>\n",
       "      <td>2.3</td>\n",
       "      <td>1</td>\n",
       "      <td>1</td>\n",
       "    </tr>\n",
       "    <tr>\n",
       "      <th>3</th>\n",
       "      <td>2.3</td>\n",
       "      <td>1</td>\n",
       "      <td>1</td>\n",
       "    </tr>\n",
       "    <tr>\n",
       "      <th>4</th>\n",
       "      <td>2.5</td>\n",
       "      <td>1</td>\n",
       "      <td>1</td>\n",
       "    </tr>\n",
       "    <tr>\n",
       "      <th>1</th>\n",
       "      <td>4.6</td>\n",
       "      <td>1</td>\n",
       "      <td>2</td>\n",
       "    </tr>\n",
       "  </tbody>\n",
       "</table>\n",
       "</div>"
      ],
      "text/plain": [
       "    hours  A  B\n",
       "id             \n",
       "1     2.9  1  1\n",
       "2     2.3  1  1\n",
       "3     2.3  1  1\n",
       "4     2.5  1  1\n",
       "1     4.6  1  2"
      ]
     },
     "execution_count": 3,
     "metadata": {},
     "output_type": "execute_result"
    }
   ],
   "source": [
    "fever.head()"
   ]
  },
  {
   "cell_type": "code",
   "execution_count": 4,
   "metadata": {},
   "outputs": [
    {
     "name": "stdout",
     "output_type": "stream",
     "text": [
      "                            OLS Regression Results                            \n",
      "==============================================================================\n",
      "Dep. Variable:                  hours   R-squared:                       0.972\n",
      "Model:                            OLS   Adj. R-squared:                  0.964\n",
      "Method:                 Least Squares   F-statistic:                     119.3\n",
      "Date:                Tue, 16 May 2023   Prob (F-statistic):           4.91e-19\n",
      "Time:                        11:22:33   Log-Likelihood:                -31.145\n",
      "No. Observations:                  36   AIC:                             80.29\n",
      "Df Residuals:                      27   BIC:                             94.54\n",
      "Df Model:                           8                                         \n",
      "Covariance Type:            nonrobust                                         \n",
      "=======================================================================================\n",
      "                          coef    std err          t      P>|t|      [0.025      0.975]\n",
      "---------------------------------------------------------------------------------------\n",
      "Intercept               2.5000      0.332      7.534      0.000       1.819       3.181\n",
      "C(A)[T.2]               2.8750      0.469      6.126      0.000       1.912       3.838\n",
      "C(A)[T.3]               3.8000      0.469      8.097      0.000       2.837       4.763\n",
      "C(B)[T.2]               2.1000      0.469      4.475      0.000       1.137       3.063\n",
      "C(B)[T.3]               2.0750      0.469      4.422      0.000       1.112       3.038\n",
      "C(A)[T.2]:C(B)[T.2]     1.3250      0.664      1.996      0.056      -0.037       2.687\n",
      "C(A)[T.3]:C(B)[T.2]     2.3750      0.664      3.579      0.001       1.013       3.737\n",
      "C(A)[T.2]:C(B)[T.3]     1.7000      0.664      2.561      0.016       0.338       3.062\n",
      "C(A)[T.3]:C(B)[T.3]     5.6250      0.664      8.476      0.000       4.263       6.987\n",
      "==============================================================================\n",
      "Omnibus:                       24.319   Durbin-Watson:                   1.993\n",
      "Prob(Omnibus):                  0.000   Jarque-Bera (JB):               46.488\n",
      "Skew:                           1.654   Prob(JB):                     8.04e-11\n",
      "Kurtosis:                       7.477   Cond. No.                         13.9\n",
      "==============================================================================\n",
      "\n",
      "Notes:\n",
      "[1] Standard Errors assume that the covariance matrix of the errors is correctly specified.\n"
     ]
    }
   ],
   "source": [
    "fit_model = sm.OLS.from_formula('hours ~ C(A) + C(B) + C(A):C(B)', fever).fit()\n",
    "print(fit_model.summary())"
   ]
  },
  {
   "cell_type": "code",
   "execution_count": 5,
   "metadata": {},
   "outputs": [
    {
     "data": {
      "text/plain": [
       "0    5.375\n",
       "dtype: float64"
      ]
     },
     "execution_count": 5,
     "metadata": {},
     "output_type": "execute_result"
    }
   ],
   "source": [
    "fit_model.predict(exog={'A': [2], 'B': [1]})"
   ]
  },
  {
   "attachments": {},
   "cell_type": "markdown",
   "metadata": {},
   "source": [
    "sol 2:"
   ]
  },
  {
   "cell_type": "code",
   "execution_count": 6,
   "metadata": {},
   "outputs": [],
   "source": [
    "resid = fit_model.get_influence().resid_studentized_external"
   ]
  },
  {
   "cell_type": "code",
   "execution_count": 7,
   "metadata": {},
   "outputs": [
    {
     "data": {
      "image/png": "[encoded data removed]",
      "text/plain": [
       "<Figure size 640x480 with 1 Axes>"
      ]
     },
     "execution_count": 7,
     "metadata": {},
     "output_type": "execute_result"
    },
    {
     "data": {
      "image/png": "[encoded data removed]",
      "text/plain": [
       "<Figure size 640x480 with 1 Axes>"
      ]
     },
     "metadata": {},
     "output_type": "display_data"
    }
   ],
   "source": [
    "qqplot(resid, dist=t(26))"
   ]
  },
  {
   "attachments": {},
   "cell_type": "markdown",
   "metadata": {},
   "source": [
    "yes, there are violations in normality."
   ]
  },
  {
   "cell_type": "code",
   "execution_count": 8,
   "metadata": {},
   "outputs": [],
   "source": [
    "fever = fever.reset_index()"
   ]
  },
  {
   "attachments": {},
   "cell_type": "markdown",
   "metadata": {},
   "source": [
    "sol 3:"
   ]
  },
  {
   "cell_type": "code",
   "execution_count": 9,
   "metadata": {},
   "outputs": [
    {
     "data": {
      "image/png": "[encoded data removed]",
      "text/plain": [
       "<Figure size 640x480 with 1 Axes>"
      ]
     },
     "metadata": {},
     "output_type": "display_data"
    }
   ],
   "source": [
    "fig = interaction_plot(fever['A'], fever['B'], fever['hours'], ms=10)"
   ]
  },
  {
   "attachments": {},
   "cell_type": "markdown",
   "metadata": {},
   "source": [
    "There appear to be interactions."
   ]
  },
  {
   "attachments": {},
   "cell_type": "markdown",
   "metadata": {},
   "source": [
    "sol 4: (three ways)"
   ]
  },
  {
   "cell_type": "code",
   "execution_count": 10,
   "metadata": {},
   "outputs": [],
   "source": [
    "r_model = sm.OLS.from_formula('hours ~ C(A) + C(B)', fever).fit()"
   ]
  },
  {
   "cell_type": "code",
   "execution_count": 11,
   "metadata": {},
   "outputs": [
    {
     "name": "stdout",
     "output_type": "stream",
     "text": [
      "   df_resid        ssr  df_diff    ss_diff          F        Pr(>F)\n",
      "0      31.0  46.294167      0.0        NaN        NaN           NaN\n",
      "1      27.0  11.892500      4.0  34.401667  19.525857  1.186415e-07\n"
     ]
    }
   ],
   "source": [
    "table = anova_lm(r_model, fit_model)\n",
    "print(table)"
   ]
  },
  {
   "cell_type": "code",
   "execution_count": 12,
   "metadata": {},
   "outputs": [
    {
     "data": {
      "text/plain": [
       "<class 'statsmodels.stats.contrast.ContrastResults'>\n",
       "<F test: F=19.52585663233128, p=1.186415371297993e-07, df_denom=27, df_num=4>"
      ]
     },
     "execution_count": 12,
     "metadata": {},
     "output_type": "execute_result"
    }
   ],
   "source": [
    "fit_model.f_test(\"C(A)[T.2]:C(B)[T.2] = C(A)[T.3]:C(B)[T.2] = C(A)[T.2]:C(B)[T.3] = C(A)[T.3]:C(B)[T.3] = 0\")"
   ]
  },
  {
   "cell_type": "code",
   "execution_count": 13,
   "metadata": {},
   "outputs": [
    {
     "name": "stdout",
     "output_type": "stream",
     "text": [
      "             df      sum_sq     mean_sq           F        PR(>F)\n",
      "C(A)        2.0  254.286667  127.143333  288.658398  5.974999e-19\n",
      "C(B)        2.0  131.646667   65.823333  149.441244  2.495094e-15\n",
      "C(A):C(B)   4.0   34.401667    8.600417   19.525857  1.186415e-07\n",
      "Residual   27.0   11.892500    0.440463         NaN           NaN\n"
     ]
    }
   ],
   "source": [
    "table = anova_lm(fit_model)\n",
    "print(table)"
   ]
  },
  {
   "attachments": {},
   "cell_type": "markdown",
   "metadata": {},
   "source": [
    "we can see that there is a connection (p_val < 0.05)"
   ]
  },
  {
   "attachments": {},
   "cell_type": "markdown",
   "metadata": {},
   "source": [
    "sol 5:"
   ]
  },
  {
   "cell_type": "code",
   "execution_count": 14,
   "metadata": {},
   "outputs": [
    {
     "data": {
      "text/plain": [
       "<class 'statsmodels.stats.contrast.ContrastResults'>\n",
       "<F test: F=17.8828883750263, p=2.777121333462073e-07, df_denom=27, df_num=4>"
      ]
     },
     "execution_count": 14,
     "metadata": {},
     "output_type": "execute_result"
    }
   ],
   "source": [
    "fit_model.f_test(\"C(B)[T.2] = C(B)[T.3] = C(A)[T.2] = C(A)[T.3] = 0\")"
   ]
  },
  {
   "attachments": {},
   "cell_type": "markdown",
   "metadata": {},
   "source": [
    "There is significence to the main effects."
   ]
  }
 ],
 "metadata": {
  "kernelspec": {
   "display_name": "venv",
   "language": "python",
   "name": "python3"
  },
  "language_info": {
   "codemirror_mode": {
    "name": "ipython",
    "version": 3
   },
   "file_extension": ".py",
   "mimetype": "text/x-python",
   "name": "python",
   "nbconvert_exporter": "python",
   "pygments_lexer": "ipython3",
   "version": "3.8.4"
  },
  "orig_nbformat": 4
 },
 "nbformat": 4,
 "nbformat_minor": 2
}
