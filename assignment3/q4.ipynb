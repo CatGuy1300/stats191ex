{
 "cells": [
  {
   "cell_type": "code",
   "execution_count": 25,
   "metadata": {},
   "outputs": [],
   "source": [
    "import pandas as pd\n",
    "import matplotlib.pyplot as plt\n",
    "from scipy.stats import t, f\n",
    "import numpy as np\n",
    "import statsmodels.api as sm\n",
    "from Linear_Reg_Diagnostic import Linear_Reg_Diagnostic\n",
    "import statsmodels.stats.outliers_influence as smoi"
   ]
  },
  {
   "cell_type": "code",
   "execution_count": 2,
   "metadata": {},
   "outputs": [],
   "source": [
    "tomasetti = pd.read_csv(\"https://stats191.stanford.edu/data/Tomasetti.csv\")\n"
   ]
  },
  {
   "cell_type": "code",
   "execution_count": 19,
   "metadata": {},
   "outputs": [
    {
     "data": {
      "text/html": [
       "<div>\n",
       "<style scoped>\n",
       "    .dataframe tbody tr th:only-of-type {\n",
       "        vertical-align: middle;\n",
       "    }\n",
       "\n",
       "    .dataframe tbody tr th {\n",
       "        vertical-align: top;\n",
       "    }\n",
       "\n",
       "    .dataframe thead th {\n",
       "        text-align: right;\n",
       "    }\n",
       "</style>\n",
       "<table border=\"1\" class=\"dataframe\">\n",
       "  <thead>\n",
       "    <tr style=\"text-align: right;\">\n",
       "      <th></th>\n",
       "      <th>Type</th>\n",
       "      <th>Risk</th>\n",
       "      <th>Lscd</th>\n",
       "      <th>Cluster</th>\n",
       "    </tr>\n",
       "  </thead>\n",
       "  <tbody>\n",
       "    <tr>\n",
       "      <th>0</th>\n",
       "      <td>Acute myeloid leukemia</td>\n",
       "      <td>0.0041</td>\n",
       "      <td>1.300000e+11</td>\n",
       "      <td>Replicative</td>\n",
       "    </tr>\n",
       "    <tr>\n",
       "      <th>1</th>\n",
       "      <td>Basal cell carcinoma</td>\n",
       "      <td>0.3000</td>\n",
       "      <td>3.550000e+12</td>\n",
       "      <td>Deterministic</td>\n",
       "    </tr>\n",
       "    <tr>\n",
       "      <th>2</th>\n",
       "      <td>Chronic lymphocytic leukemia</td>\n",
       "      <td>0.0052</td>\n",
       "      <td>1.300000e+11</td>\n",
       "      <td>Replicative</td>\n",
       "    </tr>\n",
       "    <tr>\n",
       "      <th>3</th>\n",
       "      <td>Colorectal adenocarcinoma</td>\n",
       "      <td>0.0480</td>\n",
       "      <td>1.170000e+12</td>\n",
       "      <td>Deterministic</td>\n",
       "    </tr>\n",
       "    <tr>\n",
       "      <th>4</th>\n",
       "      <td>Colorectal adenocarcinoma with FAP</td>\n",
       "      <td>1.0000</td>\n",
       "      <td>1.170000e+12</td>\n",
       "      <td>Deterministic</td>\n",
       "    </tr>\n",
       "  </tbody>\n",
       "</table>\n",
       "</div>"
      ],
      "text/plain": [
       "                                 Type    Risk          Lscd        Cluster\n",
       "0              Acute myeloid leukemia  0.0041  1.300000e+11    Replicative\n",
       "1                Basal cell carcinoma  0.3000  3.550000e+12  Deterministic\n",
       "2        Chronic lymphocytic leukemia  0.0052  1.300000e+11    Replicative\n",
       "3           Colorectal adenocarcinoma  0.0480  1.170000e+12  Deterministic\n",
       "4  Colorectal adenocarcinoma with FAP  1.0000  1.170000e+12  Deterministic"
      ]
     },
     "execution_count": 19,
     "metadata": {},
     "output_type": "execute_result"
    }
   ],
   "source": [
    "tomasetti.head()"
   ]
  },
  {
   "attachments": {},
   "cell_type": "markdown",
   "metadata": {},
   "source": [
    "1:"
   ]
  },
  {
   "cell_type": "code",
   "execution_count": 34,
   "metadata": {},
   "outputs": [
    {
     "name": "stdout",
     "output_type": "stream",
     "text": [
      "                            OLS Regression Results                            \n",
      "==============================================================================\n",
      "Dep. Variable:           np.log(Risk)   R-squared:                       0.834\n",
      "Model:                            OLS   Adj. R-squared:                  0.822\n",
      "Method:                 Least Squares   F-statistic:                     70.46\n",
      "Date:                Thu, 20 Apr 2023   Prob (F-statistic):           1.18e-11\n",
      "Time:                        14:15:39   Log-Likelihood:                -48.106\n",
      "No. Observations:                  31   AIC:                             102.2\n",
      "Df Residuals:                      28   BIC:                             106.5\n",
      "Df Model:                           2                                         \n",
      "Covariance Type:            nonrobust                                         \n",
      "=======================================================================================================\n",
      "                                          coef    std err          t      P>|t|      [0.025      0.975]\n",
      "-------------------------------------------------------------------------------------------------------\n",
      "Intercept                             -14.6630      1.266    -11.583      0.000     -17.256     -12.070\n",
      "np.log(Lscd)                            0.4857      0.052      9.405      0.000       0.380       0.592\n",
      "np.log(Lscd):Cluster[T.Replicative]    -0.1211      0.021     -5.634      0.000      -0.165      -0.077\n",
      "==============================================================================\n",
      "Omnibus:                        2.006   Durbin-Watson:                   1.814\n",
      "Prob(Omnibus):                  0.367   Jarque-Bera (JB):                1.640\n",
      "Skew:                          -0.412   Prob(JB):                        0.440\n",
      "Kurtosis:                       2.231   Cond. No.                         162.\n",
      "==============================================================================\n",
      "\n",
      "Notes:\n",
      "[1] Standard Errors assume that the covariance matrix of the errors is correctly specified.\n"
     ]
    }
   ],
   "source": [
    "formula = 'np.log(Risk) ~ np.log(Lscd) + np.log(Lscd):Cluster'\n",
    "model = sm.OLS.from_formula(formula, tomasetti)\n",
    "result = model.fit()\n",
    "print(result.summary())"
   ]
  },
  {
   "attachments": {},
   "cell_type": "markdown",
   "metadata": {},
   "source": [
    "2:"
   ]
  },
  {
   "cell_type": "code",
   "execution_count": 35,
   "metadata": {},
   "outputs": [],
   "source": [
    "y_pred = result.predict()"
   ]
  },
  {
   "cell_type": "code",
   "execution_count": 36,
   "metadata": {},
   "outputs": [
    {
     "data": {
      "text/plain": [
       "-14.66296334668457"
      ]
     },
     "execution_count": 36,
     "metadata": {},
     "output_type": "execute_result"
    }
   ],
   "source": [
    "result.params['Intercept']"
   ]
  },
  {
   "cell_type": "code",
   "execution_count": 37,
   "metadata": {},
   "outputs": [
    {
     "data": {
      "image/png": "[encoded data removed]",
      "text/plain": [
       "<Figure size 640x480 with 1 Axes>"
      ]
     },
     "metadata": {},
     "output_type": "display_data"
    }
   ],
   "source": [
    "is_R = tomasetti['Cluster'] == 'Replicative'\n",
    "plt.plot(np.log(tomasetti['Lscd'][is_R]), y_pred[is_R])\n",
    "plt.scatter(np.log(tomasetti['Lscd'][is_R]), np.log(tomasetti['Risk'][is_R]))\n",
    "plt.plot(np.log(tomasetti['Lscd'][~is_R]), y_pred[~is_R])\n",
    "plt.scatter(np.log(tomasetti['Lscd'][~is_R]), np.log(tomasetti['Risk'][~is_R]))\n",
    "\n",
    "plt.show()"
   ]
  },
  {
   "attachments": {},
   "cell_type": "markdown",
   "metadata": {},
   "source": [
    "3:"
   ]
  },
  {
   "cell_type": "code",
   "execution_count": 39,
   "metadata": {},
   "outputs": [
    {
     "name": "stdout",
     "output_type": "stream",
     "text": [
      "<F test: F=31.741981355997957, p=4.921633985379364e-06, df_denom=28, df_num=1>\n"
     ]
    }
   ],
   "source": [
    "f_test = result.f_test('np.log(Lscd):Cluster[T.Replicative] = 0')\n",
    "print(f_test)"
   ]
  },
  {
   "attachments": {},
   "cell_type": "markdown",
   "metadata": {},
   "source": [
    "4:"
   ]
  },
  {
   "attachments": {},
   "cell_type": "markdown",
   "metadata": {},
   "source": [
    "yes, we can see that there is an improtence to this clustering."
   ]
  }
 ],
 "metadata": {
  "kernelspec": {
   "display_name": "venv",
   "language": "python",
   "name": "python3"
  },
  "language_info": {
   "codemirror_mode": {
    "name": "ipython",
    "version": 3
   },
   "file_extension": ".py",
   "mimetype": "text/x-python",
   "name": "python",
   "nbconvert_exporter": "python",
   "pygments_lexer": "ipython3",
   "version": "3.8.4"
  },
  "orig_nbformat": 4
 },
 "nbformat": 4,
 "nbformat_minor": 2
}
