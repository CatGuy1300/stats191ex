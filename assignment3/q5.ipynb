{
 "cells": [
  {
   "cell_type": "code",
   "execution_count": 3,
   "metadata": {},
   "outputs": [],
   "source": [
    "import pandas as pd\n",
    "import matplotlib.pyplot as plt\n",
    "from scipy.stats import t, f, multivariate_normal, norm\n",
    "import numpy as np\n",
    "import statsmodels.api as sm\n",
    "from Linear_Reg_Diagnostic import Linear_Reg_Diagnostic\n",
    "import statsmodels.stats.outliers_influence as smoi"
   ]
  },
  {
   "attachments": {},
   "cell_type": "markdown",
   "metadata": {},
   "source": [
    "1:"
   ]
  },
  {
   "cell_type": "code",
   "execution_count": 54,
   "metadata": {},
   "outputs": [],
   "source": [
    "def gen(n):\n",
    "    X = multivariate_normal.rvs(mean=np.zeros(10), cov=np.identity(10), size=n)\n",
    "    Y = 1 + 0.1 * X.T[0] + norm.rvs(size=n)\n",
    "    return X, Y\n"
   ]
  },
  {
   "cell_type": "code",
   "execution_count": 119,
   "metadata": {},
   "outputs": [
    {
     "name": "stdout",
     "output_type": "stream",
     "text": [
      "                            OLS Regression Results                            \n",
      "==============================================================================\n",
      "Dep. Variable:                      y   R-squared:                       0.129\n",
      "Model:                            OLS   Adj. R-squared:                  0.031\n",
      "Method:                 Least Squares   F-statistic:                     1.318\n",
      "Date:                Thu, 20 Apr 2023   Prob (F-statistic):              0.233\n",
      "Time:                        16:17:48   Log-Likelihood:                -141.85\n",
      "No. Observations:                 100   AIC:                             305.7\n",
      "Df Residuals:                      89   BIC:                             334.3\n",
      "Df Model:                          10                                         \n",
      "Covariance Type:            nonrobust                                         \n",
      "==============================================================================\n",
      "                 coef    std err          t      P>|t|      [0.025      0.975]\n",
      "------------------------------------------------------------------------------\n",
      "const          0.9985      0.114      8.766      0.000       0.772       1.225\n",
      "x1             0.0059      0.119      0.050      0.960      -0.231       0.243\n",
      "x2             0.1305      0.102      1.282      0.203      -0.072       0.333\n",
      "x3            -0.0964      0.119     -0.811      0.419      -0.333       0.140\n",
      "x4            -0.0113      0.125     -0.090      0.928      -0.259       0.236\n",
      "x5             0.1974      0.112      1.767      0.081      -0.025       0.419\n",
      "x6             0.2983      0.130      2.302      0.024       0.041       0.556\n",
      "x7             0.0756      0.106      0.715      0.477      -0.134       0.286\n",
      "x8             0.0994      0.102      0.970      0.335      -0.104       0.303\n",
      "x9             0.0975      0.116      0.843      0.401      -0.132       0.327\n",
      "x10           -0.0086      0.127     -0.068      0.946      -0.260       0.243\n",
      "==============================================================================\n",
      "Omnibus:                        3.625   Durbin-Watson:                   1.747\n",
      "Prob(Omnibus):                  0.163   Jarque-Bera (JB):                2.974\n",
      "Skew:                          -0.335   Prob(JB):                        0.226\n",
      "Kurtosis:                       3.513   Cond. No.                         1.95\n",
      "==============================================================================\n",
      "\n",
      "Notes:\n",
      "[1] Standard Errors assume that the covariance matrix of the errors is correctly specified.\n"
     ]
    }
   ],
   "source": [
    "X, Y = gen(100)\n",
    "X = sm.add_constant(X)\n",
    "model = sm.OLS(Y, X)\n",
    "result = model.fit()\n",
    "print(result.summary())"
   ]
  },
  {
   "cell_type": "code",
   "execution_count": 72,
   "metadata": {},
   "outputs": [],
   "source": [
    "coff = np.zeros(11)\n",
    "coff[0] = 1\n",
    "coff[1] = 0.1\n",
    "\n",
    "def select_and_check(interval, p_val, index):\n",
    "    return p_val <  0.1 if (interval[0] < coff[index] < interval[1]) else np.NAN\n"
   ]
  },
  {
   "cell_type": "code",
   "execution_count": 73,
   "metadata": {},
   "outputs": [],
   "source": [
    "def select_and_check_vector(results):\n",
    "    intervals = results.conf_int()\n",
    "    pvals = results.pvalues\n",
    "    return np.array([select_and_check(intervals[i], pvals[i], i) for i in range(11)])"
   ]
  },
  {
   "cell_type": "code",
   "execution_count": 74,
   "metadata": {},
   "outputs": [],
   "source": [
    "def gen_results(n):\n",
    "    X, Y = gen(n)\n",
    "    X = sm.add_constant(X)\n",
    "    model = sm.OLS(Y, X)\n",
    "    return model.fit()"
   ]
  },
  {
   "cell_type": "code",
   "execution_count": 75,
   "metadata": {},
   "outputs": [],
   "source": [
    "array = np.array([select_and_check_vector(gen_results(100)) for i in range(5000)])"
   ]
  },
  {
   "cell_type": "code",
   "execution_count": 130,
   "metadata": {},
   "outputs": [
    {
     "data": {
      "text/plain": [
       "array([1.        , 0.2109375 , 0.05298913, 0.05264946, 0.04381793,\n",
       "       0.05774457, 0.04755435, 0.05129076, 0.05264946, 0.05095109,\n",
       "       0.04415761])"
      ]
     },
     "execution_count": 130,
     "metadata": {},
     "output_type": "execute_result"
    }
   ],
   "source": [
    "array[~np.isnan(array).any(axis=1)].mean(axis=0)"
   ]
  },
  {
   "attachments": {},
   "cell_type": "markdown",
   "metadata": {},
   "source": [
    "3:\n"
   ]
  },
  {
   "cell_type": "code",
   "execution_count": 115,
   "metadata": {},
   "outputs": [
    {
     "name": "stdout",
     "output_type": "stream",
     "text": [
      "<F test: F=1.9787545710296293, p=0.044958975270456, df_denom=89, df_num=10>\n"
     ]
    }
   ],
   "source": [
    "test_mat = np.identity(11)[1:]\n",
    "f_test = result.f_test(test_mat)\n",
    "print(f_test)"
   ]
  },
  {
   "cell_type": "code",
   "execution_count": 80,
   "metadata": {},
   "outputs": [],
   "source": [
    "def select_and_check_2(interval, index):\n",
    "    return (interval[0] < coff[index] < interval[1])"
   ]
  },
  {
   "cell_type": "code",
   "execution_count": 110,
   "metadata": {},
   "outputs": [],
   "source": [
    "def select_and_check_vector_2(results):\n",
    "    intervals = results.conf_int()\n",
    "    test_mat = np.identity(11)[1:]\n",
    "    pval = results.f_test(test_mat).pvalue\n",
    "    return np.array([select_and_check_2(intervals[i], i) for i in range(11)]) if pval < 0.1 else np.full(11, np.NAN)"
   ]
  },
  {
   "cell_type": "code",
   "execution_count": 111,
   "metadata": {},
   "outputs": [],
   "source": [
    "array2 = np.array([select_and_check_vector_2(gen_results(100)) for i in range(5000)])"
   ]
  },
  {
   "cell_type": "code",
   "execution_count": 129,
   "metadata": {},
   "outputs": [
    {
     "data": {
      "text/plain": [
       "array([0.92198582, 0.82978723, 0.85106383, 0.85390071, 0.85531915,\n",
       "       0.85673759, 0.85531915, 0.84822695, 0.85957447, 0.85106383,\n",
       "       0.86524823])"
      ]
     },
     "execution_count": 129,
     "metadata": {},
     "output_type": "execute_result"
    }
   ],
   "source": [
    "array2[~np.isnan(array2).any(axis=1)].mean(axis=0)"
   ]
  }
 ],
 "metadata": {
  "kernelspec": {
   "display_name": "venv",
   "language": "python",
   "name": "python3"
  },
  "language_info": {
   "codemirror_mode": {
    "name": "ipython",
    "version": 3
   },
   "file_extension": ".py",
   "mimetype": "text/x-python",
   "name": "python",
   "nbconvert_exporter": "python",
   "pygments_lexer": "ipython3",
   "version": "3.8.4"
  },
  "orig_nbformat": 4
 },
 "nbformat": 4,
 "nbformat_minor": 2
}
