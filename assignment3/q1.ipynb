{
 "cells": [
  {
   "cell_type": "code",
   "execution_count": 45,
   "metadata": {},
   "outputs": [],
   "source": [
    "import pandas as pd\n",
    "import matplotlib as plt\n",
    "from scipy.stats import t, f\n",
    "import numpy as np\n"
   ]
  },
  {
   "cell_type": "code",
   "execution_count": 61,
   "metadata": {},
   "outputs": [],
   "source": [
    "salaries = pd.read_csv('http://www.stanford.edu/class/stats191/data/math-salaries.table', delim_whitespace=True)\n",
    "salaries.to_csv('salaries.csv', index=False)\n",
    "salary_levels = pd.read_csv('http://web.stanford.edu/class/stats191/data/salary_levels.table', delim_whitespace=True)\n",
    "salary_levels.to_csv('salary_levels.csv', index=False)"
   ]
  },
  {
   "cell_type": "code",
   "execution_count": 62,
   "metadata": {},
   "outputs": [
    {
     "data": {
      "text/html": [
       "<div>\n",
       "<style scoped>\n",
       "    .dataframe tbody tr th:only-of-type {\n",
       "        vertical-align: middle;\n",
       "    }\n",
       "\n",
       "    .dataframe tbody tr th {\n",
       "        vertical-align: top;\n",
       "    }\n",
       "\n",
       "    .dataframe thead th {\n",
       "        text-align: right;\n",
       "    }\n",
       "</style>\n",
       "<table border=\"1\" class=\"dataframe\">\n",
       "  <thead>\n",
       "    <tr style=\"text-align: right;\">\n",
       "      <th></th>\n",
       "      <th>Y</th>\n",
       "      <th>X1</th>\n",
       "      <th>X2</th>\n",
       "      <th>X3</th>\n",
       "    </tr>\n",
       "  </thead>\n",
       "  <tbody>\n",
       "    <tr>\n",
       "      <th>0</th>\n",
       "      <td>33.2</td>\n",
       "      <td>3.5</td>\n",
       "      <td>9.0</td>\n",
       "      <td>6.1</td>\n",
       "    </tr>\n",
       "    <tr>\n",
       "      <th>1</th>\n",
       "      <td>40.3</td>\n",
       "      <td>5.3</td>\n",
       "      <td>20.0</td>\n",
       "      <td>6.4</td>\n",
       "    </tr>\n",
       "    <tr>\n",
       "      <th>2</th>\n",
       "      <td>38.7</td>\n",
       "      <td>5.1</td>\n",
       "      <td>18.0</td>\n",
       "      <td>7.4</td>\n",
       "    </tr>\n",
       "    <tr>\n",
       "      <th>3</th>\n",
       "      <td>46.8</td>\n",
       "      <td>5.8</td>\n",
       "      <td>33.0</td>\n",
       "      <td>6.7</td>\n",
       "    </tr>\n",
       "    <tr>\n",
       "      <th>4</th>\n",
       "      <td>41.4</td>\n",
       "      <td>4.2</td>\n",
       "      <td>31.0</td>\n",
       "      <td>7.5</td>\n",
       "    </tr>\n",
       "  </tbody>\n",
       "</table>\n",
       "</div>"
      ],
      "text/plain": [
       "      Y   X1    X2   X3\n",
       "0  33.2  3.5   9.0  6.1\n",
       "1  40.3  5.3  20.0  6.4\n",
       "2  38.7  5.1  18.0  7.4\n",
       "3  46.8  5.8  33.0  6.7\n",
       "4  41.4  4.2  31.0  7.5"
      ]
     },
     "execution_count": 62,
     "metadata": {},
     "output_type": "execute_result"
    }
   ],
   "source": [
    "salaries = pd.read_csv('salaries.csv')\n",
    "salary_levels = pd.read_csv('salary_levels.csv')\n",
    "\n",
    "salaries.head()"
   ]
  },
  {
   "cell_type": "code",
   "execution_count": 63,
   "metadata": {},
   "outputs": [
    {
     "data": {
      "text/html": [
       "<div>\n",
       "<style scoped>\n",
       "    .dataframe tbody tr th:only-of-type {\n",
       "        vertical-align: middle;\n",
       "    }\n",
       "\n",
       "    .dataframe tbody tr th {\n",
       "        vertical-align: top;\n",
       "    }\n",
       "\n",
       "    .dataframe thead th {\n",
       "        text-align: right;\n",
       "    }\n",
       "</style>\n",
       "<table border=\"1\" class=\"dataframe\">\n",
       "  <thead>\n",
       "    <tr style=\"text-align: right;\">\n",
       "      <th></th>\n",
       "      <th>L1</th>\n",
       "      <th>L2</th>\n",
       "      <th>L3</th>\n",
       "      <th>L4</th>\n",
       "      <th>L5</th>\n",
       "    </tr>\n",
       "  </thead>\n",
       "  <tbody>\n",
       "    <tr>\n",
       "      <th>0</th>\n",
       "      <td>5</td>\n",
       "      <td>7</td>\n",
       "      <td>3</td>\n",
       "      <td>5</td>\n",
       "      <td>4</td>\n",
       "    </tr>\n",
       "    <tr>\n",
       "      <th>1</th>\n",
       "      <td>6</td>\n",
       "      <td>3</td>\n",
       "      <td>2</td>\n",
       "      <td>5</td>\n",
       "      <td>7</td>\n",
       "    </tr>\n",
       "    <tr>\n",
       "      <th>2</th>\n",
       "      <td>4</td>\n",
       "      <td>2</td>\n",
       "      <td>3</td>\n",
       "      <td>6</td>\n",
       "      <td>6</td>\n",
       "    </tr>\n",
       "  </tbody>\n",
       "</table>\n",
       "</div>"
      ],
      "text/plain": [
       "   L1  L2  L3  L4  L5\n",
       "0   5   7   3   5   4\n",
       "1   6   3   2   5   7\n",
       "2   4   2   3   6   6"
      ]
     },
     "execution_count": 63,
     "metadata": {},
     "output_type": "execute_result"
    }
   ],
   "source": [
    "salary_levels.head()"
   ]
  },
  {
   "cell_type": "code",
   "execution_count": 18,
   "metadata": {},
   "outputs": [
    {
     "data": {
      "text/plain": [
       "array([[<Axes: xlabel='Y', ylabel='Y'>, <Axes: xlabel='X1', ylabel='Y'>,\n",
       "        <Axes: xlabel='X2', ylabel='Y'>, <Axes: xlabel='X3', ylabel='Y'>],\n",
       "       [<Axes: xlabel='Y', ylabel='X1'>,\n",
       "        <Axes: xlabel='X1', ylabel='X1'>,\n",
       "        <Axes: xlabel='X2', ylabel='X1'>,\n",
       "        <Axes: xlabel='X3', ylabel='X1'>],\n",
       "       [<Axes: xlabel='Y', ylabel='X2'>,\n",
       "        <Axes: xlabel='X1', ylabel='X2'>,\n",
       "        <Axes: xlabel='X2', ylabel='X2'>,\n",
       "        <Axes: xlabel='X3', ylabel='X2'>],\n",
       "       [<Axes: xlabel='Y', ylabel='X3'>,\n",
       "        <Axes: xlabel='X1', ylabel='X3'>,\n",
       "        <Axes: xlabel='X2', ylabel='X3'>,\n",
       "        <Axes: xlabel='X3', ylabel='X3'>]], dtype=object)"
      ]
     },
     "execution_count": 18,
     "metadata": {},
     "output_type": "execute_result"
    },
    {
     "data": {
      "image/png": "[encoded data removed]",
      "text/plain": [
       "<Figure size 640x480 with 16 Axes>"
      ]
     },
     "metadata": {},
     "output_type": "display_data"
    }
   ],
   "source": [
    "pd.plotting.scatter_matrix(salaries)"
   ]
  },
  {
   "cell_type": "code",
   "execution_count": 19,
   "metadata": {},
   "outputs": [
    {
     "data": {
      "text/html": [
       "<div>\n",
       "<style scoped>\n",
       "    .dataframe tbody tr th:only-of-type {\n",
       "        vertical-align: middle;\n",
       "    }\n",
       "\n",
       "    .dataframe tbody tr th {\n",
       "        vertical-align: top;\n",
       "    }\n",
       "\n",
       "    .dataframe thead th {\n",
       "        text-align: right;\n",
       "    }\n",
       "</style>\n",
       "<table border=\"1\" class=\"dataframe\">\n",
       "  <thead>\n",
       "    <tr style=\"text-align: right;\">\n",
       "      <th></th>\n",
       "      <th>Y</th>\n",
       "      <th>X1</th>\n",
       "      <th>X2</th>\n",
       "      <th>X3</th>\n",
       "    </tr>\n",
       "  </thead>\n",
       "  <tbody>\n",
       "    <tr>\n",
       "      <th>Y</th>\n",
       "      <td>1.000000</td>\n",
       "      <td>0.667096</td>\n",
       "      <td>0.858558</td>\n",
       "      <td>0.558196</td>\n",
       "    </tr>\n",
       "    <tr>\n",
       "      <th>X1</th>\n",
       "      <td>0.667096</td>\n",
       "      <td>1.000000</td>\n",
       "      <td>0.466951</td>\n",
       "      <td>0.322761</td>\n",
       "    </tr>\n",
       "    <tr>\n",
       "      <th>X2</th>\n",
       "      <td>0.858558</td>\n",
       "      <td>0.466951</td>\n",
       "      <td>1.000000</td>\n",
       "      <td>0.253753</td>\n",
       "    </tr>\n",
       "    <tr>\n",
       "      <th>X3</th>\n",
       "      <td>0.558196</td>\n",
       "      <td>0.322761</td>\n",
       "      <td>0.253753</td>\n",
       "      <td>1.000000</td>\n",
       "    </tr>\n",
       "  </tbody>\n",
       "</table>\n",
       "</div>"
      ],
      "text/plain": [
       "           Y        X1        X2        X3\n",
       "Y   1.000000  0.667096  0.858558  0.558196\n",
       "X1  0.667096  1.000000  0.466951  0.322761\n",
       "X2  0.858558  0.466951  1.000000  0.253753\n",
       "X3  0.558196  0.322761  0.253753  1.000000"
      ]
     },
     "execution_count": 19,
     "metadata": {},
     "output_type": "execute_result"
    }
   ],
   "source": [
    "salaries.corr()"
   ]
  },
  {
   "cell_type": "code",
   "execution_count": 32,
   "metadata": {},
   "outputs": [
    {
     "name": "stdout",
     "output_type": "stream",
     "text": [
      "y=17.847+1.103x1+0.322x2+1.289x3\n"
     ]
    }
   ],
   "source": [
    "salaries['ones'] = 1\n",
    "X = salaries[['ones', 'X1', 'X2', 'X3']].to_numpy()\n",
    "Y = np.expand_dims(salaries['Y'].to_numpy(), axis=1)\n",
    "b = np.linalg.inv(X.T@X)@X.T@Y\n",
    "print(f'y={round(b[0][0], 3)}+{round(b[1][0], 3)}x1+{round(b[2][0], 3)}x2+{round(b[3][0], 3)}x3')"
   ]
  },
  {
   "attachments": {},
   "cell_type": "markdown",
   "metadata": {},
   "source": [
    "3:"
   ]
  },
  {
   "attachments": {},
   "cell_type": "markdown",
   "metadata": {},
   "source": [
    "$ H_{0}: \\beta_{1}=\\beta_{2}=\\beta_{3}=0 $  \n",
    "$ H_{1}: \\beta{1}\\ne0 \\lor \\beta{2}\\ne0 \\lor \\beta{3}\\ne0 $\n",
    "using:  \n",
    "$ F_{n} = {MSR\\over MSE} \\sim F_{p-1,n-p} $  \n",
    "and we will test by $ \\varphi_{\\alpha}(F_{n}) = 1\\{F_{n}\\ > q_{1-{\\alpha}}\\} $  \n",
    "and $ p\\_val = P(F_{p-1, n-p} > F_{n}) $"
   ]
  },
  {
   "cell_type": "code",
   "execution_count": 34,
   "metadata": {},
   "outputs": [],
   "source": [
    "n = X.shape[0]\n",
    "p = X.shape[1]"
   ]
  },
  {
   "cell_type": "code",
   "execution_count": 53,
   "metadata": {},
   "outputs": [
    {
     "data": {
      "text/plain": [
       "1.1239742470081637e-10"
      ]
     },
     "execution_count": 53,
     "metadata": {},
     "output_type": "execute_result"
    }
   ],
   "source": [
    "ssr = ((Y.mean() - X@b) ** 2).sum()\n",
    "msr = ssr / (p-1)\n",
    "sse = ((Y - X@b) ** 2).sum()\n",
    "mse = sse / (n-p)\n",
    "F = msr/mse\n",
    "p_val = 1 - f.cdf(F, p-1, n-p)\n",
    "p_val"
   ]
  },
  {
   "attachments": {},
   "cell_type": "markdown",
   "metadata": {},
   "source": [
    "so we reject the null"
   ]
  },
  {
   "attachments": {},
   "cell_type": "markdown",
   "metadata": {},
   "source": [
    "4:"
   ]
  },
  {
   "attachments": {},
   "cell_type": "markdown",
   "metadata": {},
   "source": [
    "we want our params to be in the intervals in probability $1-\\alpha$, if for each param the probability  \n",
    "it won't be in the interval is $\\alpha \\over 3$ then the probability that one of them will be outside is $\\alpha$, like we wanted.  \n",
    "Here we will use:  \n",
    "$ {b_{j} - c \\over \\sqrt{\\hat{\\sigma}^2e_{j}^T(X^TX)^{-1}e_{j}}} \\sim t_{n-p} $  \n",
    "unser the assumption $ \\beta_{j} = c $"
   ]
  },
  {
   "cell_type": "code",
   "execution_count": 51,
   "metadata": {},
   "outputs": [
    {
     "name": "stdout",
     "output_type": "stream",
     "text": [
      "interval for beta1: [0.34989146610182364, 1.8563693241774715]\n",
      "interval for beta2: [0.2367079657178635, 0.4063313971815415]\n",
      "interval for beta3: [0.6067676624378334, 1.9711141290850782]\n"
     ]
    }
   ],
   "source": [
    "confidence = 0.9\n",
    "alpha = 1-confidence\n",
    "ad_alpha = alpha/3\n",
    "t_val = t.ppf(1 - ad_alpha/2, n - p)\n",
    "\n",
    "j = 1\n",
    "center = b[j][0]\n",
    "se = np.sqrt(mse * np.linalg.inv(X.T@X)[j, j])\n",
    "length = se * t_val\n",
    "print(f'interval for beta{j}:',[center - length, center + length])\n",
    "\n",
    "j = 2\n",
    "center = b[j][0]\n",
    "se = np.sqrt(mse * np.linalg.inv(X.T@X)[j, j])\n",
    "length = se * t_val\n",
    "print(f'interval for beta{j}:',[center - length, center + length])\n",
    "\n",
    "j = 3\n",
    "center = b[j][0]\n",
    "se = np.sqrt(mse * np.linalg.inv(X.T@X)[j, j])\n",
    "length = se * t_val\n",
    "print(f'interval for beta{j}:',[center - length, center + length])"
   ]
  },
  {
   "attachments": {},
   "cell_type": "markdown",
   "metadata": {},
   "source": [
    "5:"
   ]
  },
  {
   "cell_type": "code",
   "execution_count": 55,
   "metadata": {},
   "outputs": [
    {
     "name": "stdout",
     "output_type": "stream",
     "text": [
      "R^2: 0.91085656554165\n",
      "adjusted R^2: 0.8974850503728974\n"
     ]
    }
   ],
   "source": [
    "sst = sse + ssr\n",
    "mst = sst / (n-1)\n",
    "print('R^2:', ssr/sst)\n",
    "print('adjusted R^2:', 1 - mse/mst )"
   ]
  },
  {
   "attachments": {},
   "cell_type": "markdown",
   "metadata": {},
   "source": [
    "we have 5 variables so $adj\\_\\alpha = {\\alpha \\over 5} $  \n",
    "we will use: \n",
    "$a^t\\hat{\\beta} \\pm t_{n-p, 1-{\\alpha \\over 2}}\\hat{\\sigma}\\sqrt{a^T(X^TX)^{-1}a+1}$  "
   ]
  },
  {
   "cell_type": "code",
   "execution_count": 70,
   "metadata": {},
   "outputs": [],
   "source": [
    "var_x = np.concatenate((np.ones((5, 1)), salary_levels.to_numpy().T), axis=1)"
   ]
  },
  {
   "cell_type": "code",
   "execution_count": 91,
   "metadata": {},
   "outputs": [
    {
     "name": "stdout",
     "output_type": "stream",
     "text": [
      "PI 1: [26.64843111016819, 34.24649745769528]\n",
      "PI 2: [23.462810883362824, 34.7597575933152]\n",
      "PI 3: [21.46703720785817, 29.865330536326177]\n",
      "PI 4: [29.084747041375937, 36.32290574663395]\n",
      "PI 5: [28.73231570812051, 35.75515501540889]\n"
     ]
    }
   ],
   "source": [
    "confidence = 0.95\n",
    "alpha = 1 - confidence\n",
    "adj_alpha = alpha/5\n",
    "\n",
    "centers =  (var_x @ b).squeeze()\n",
    "se = np.sqrt(mse * var_x@np.linalg.inv(X.T@X)@var_x.T+1).diagonal()\n",
    "t_val = t.ppf(1- adj_alpha/2, n-p)\n",
    "lengths = se * t_val\n",
    "\n",
    "lower_bounds = centers - lengths\n",
    "upper_bounds = centers + lengths\n",
    "\n",
    "for i in range(5):\n",
    "    print(f'PI {i+1}: [{lower_bounds[i]}, {upper_bounds[i]}]')"
   ]
  }
 ],
 "metadata": {
  "kernelspec": {
   "display_name": "venv",
   "language": "python",
   "name": "python3"
  },
  "language_info": {
   "codemirror_mode": {
    "name": "ipython",
    "version": 3
   },
   "file_extension": ".py",
   "mimetype": "text/x-python",
   "name": "python",
   "nbconvert_exporter": "python",
   "pygments_lexer": "ipython3",
   "version": "3.8.4"
  },
  "orig_nbformat": 4
 },
 "nbformat": 4,
 "nbformat_minor": 2
}
